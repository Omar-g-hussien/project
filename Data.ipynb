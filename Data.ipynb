{
 "cells": [
  {
   "cell_type": "code",
   "execution_count": 4,
   "id": "4db6406c",
   "metadata": {},
   "outputs": [],
   "source": [
    "# importing libraries\n",
    "import pandas as pd\n",
    "import numpy as np\n",
    "import seaborn as sns\n",
    "import matplotlib as plt"
   ]
  },
  {
   "cell_type": "code",
   "execution_count": 5,
   "id": "87360a84",
   "metadata": {},
   "outputs": [],
   "source": [
    "df=pd.read_csv(r'C:\\Users\\HP\\OneDrive\\Desktop\\Uber Request Data.csv')"
   ]
  },
  {
   "cell_type": "code",
   "execution_count": 6,
   "id": "8b99638d",
   "metadata": {},
   "outputs": [
    {
     "data": {
      "text/html": [
       "<div>\n",
       "<style scoped>\n",
       "    .dataframe tbody tr th:only-of-type {\n",
       "        vertical-align: middle;\n",
       "    }\n",
       "\n",
       "    .dataframe tbody tr th {\n",
       "        vertical-align: top;\n",
       "    }\n",
       "\n",
       "    .dataframe thead th {\n",
       "        text-align: right;\n",
       "    }\n",
       "</style>\n",
       "<table border=\"1\" class=\"dataframe\">\n",
       "  <thead>\n",
       "    <tr style=\"text-align: right;\">\n",
       "      <th></th>\n",
       "      <th>Request id</th>\n",
       "      <th>Pickup point</th>\n",
       "      <th>Driver id</th>\n",
       "      <th>Status</th>\n",
       "      <th>Request timestamp</th>\n",
       "      <th>Drop timestamp</th>\n",
       "    </tr>\n",
       "  </thead>\n",
       "  <tbody>\n",
       "    <tr>\n",
       "      <th>0</th>\n",
       "      <td>619</td>\n",
       "      <td>Airport</td>\n",
       "      <td>1.0</td>\n",
       "      <td>Trip Completed</td>\n",
       "      <td>11/7/2016 11:51</td>\n",
       "      <td>11/7/2016 13:00</td>\n",
       "    </tr>\n",
       "    <tr>\n",
       "      <th>1</th>\n",
       "      <td>867</td>\n",
       "      <td>Airport</td>\n",
       "      <td>1.0</td>\n",
       "      <td>Trip Completed</td>\n",
       "      <td>11/7/2016 17:57</td>\n",
       "      <td>11/7/2016 18:47</td>\n",
       "    </tr>\n",
       "    <tr>\n",
       "      <th>2</th>\n",
       "      <td>1807</td>\n",
       "      <td>City</td>\n",
       "      <td>1.0</td>\n",
       "      <td>Trip Completed</td>\n",
       "      <td>12/7/2016 9:17</td>\n",
       "      <td>12/7/2016 9:58</td>\n",
       "    </tr>\n",
       "    <tr>\n",
       "      <th>3</th>\n",
       "      <td>2532</td>\n",
       "      <td>Airport</td>\n",
       "      <td>1.0</td>\n",
       "      <td>Trip Completed</td>\n",
       "      <td>12/7/2016 21:08</td>\n",
       "      <td>12/7/2016 22:03</td>\n",
       "    </tr>\n",
       "    <tr>\n",
       "      <th>4</th>\n",
       "      <td>3112</td>\n",
       "      <td>City</td>\n",
       "      <td>1.0</td>\n",
       "      <td>Trip Completed</td>\n",
       "      <td>13-07-2016 08:33:16</td>\n",
       "      <td>13-07-2016 09:25:47</td>\n",
       "    </tr>\n",
       "    <tr>\n",
       "      <th>5</th>\n",
       "      <td>3879</td>\n",
       "      <td>Airport</td>\n",
       "      <td>1.0</td>\n",
       "      <td>Trip Completed</td>\n",
       "      <td>13-07-2016 21:57:28</td>\n",
       "      <td>13-07-2016 22:28:59</td>\n",
       "    </tr>\n",
       "    <tr>\n",
       "      <th>6</th>\n",
       "      <td>4270</td>\n",
       "      <td>Airport</td>\n",
       "      <td>1.0</td>\n",
       "      <td>Trip Completed</td>\n",
       "      <td>14-07-2016 06:15:32</td>\n",
       "      <td>14-07-2016 07:13:15</td>\n",
       "    </tr>\n",
       "    <tr>\n",
       "      <th>7</th>\n",
       "      <td>5510</td>\n",
       "      <td>Airport</td>\n",
       "      <td>1.0</td>\n",
       "      <td>Trip Completed</td>\n",
       "      <td>15-07-2016 05:11:52</td>\n",
       "      <td>15-07-2016 06:07:52</td>\n",
       "    </tr>\n",
       "    <tr>\n",
       "      <th>8</th>\n",
       "      <td>6248</td>\n",
       "      <td>City</td>\n",
       "      <td>1.0</td>\n",
       "      <td>Trip Completed</td>\n",
       "      <td>15-07-2016 17:57:27</td>\n",
       "      <td>15-07-2016 18:50:51</td>\n",
       "    </tr>\n",
       "    <tr>\n",
       "      <th>9</th>\n",
       "      <td>267</td>\n",
       "      <td>City</td>\n",
       "      <td>2.0</td>\n",
       "      <td>Trip Completed</td>\n",
       "      <td>11/7/2016 6:46</td>\n",
       "      <td>11/7/2016 7:25</td>\n",
       "    </tr>\n",
       "  </tbody>\n",
       "</table>\n",
       "</div>"
      ],
      "text/plain": [
       "   Request id Pickup point  Driver id          Status    Request timestamp  \\\n",
       "0         619      Airport        1.0  Trip Completed      11/7/2016 11:51   \n",
       "1         867      Airport        1.0  Trip Completed      11/7/2016 17:57   \n",
       "2        1807         City        1.0  Trip Completed       12/7/2016 9:17   \n",
       "3        2532      Airport        1.0  Trip Completed      12/7/2016 21:08   \n",
       "4        3112         City        1.0  Trip Completed  13-07-2016 08:33:16   \n",
       "5        3879      Airport        1.0  Trip Completed  13-07-2016 21:57:28   \n",
       "6        4270      Airport        1.0  Trip Completed  14-07-2016 06:15:32   \n",
       "7        5510      Airport        1.0  Trip Completed  15-07-2016 05:11:52   \n",
       "8        6248         City        1.0  Trip Completed  15-07-2016 17:57:27   \n",
       "9         267         City        2.0  Trip Completed       11/7/2016 6:46   \n",
       "\n",
       "        Drop timestamp  \n",
       "0      11/7/2016 13:00  \n",
       "1      11/7/2016 18:47  \n",
       "2       12/7/2016 9:58  \n",
       "3      12/7/2016 22:03  \n",
       "4  13-07-2016 09:25:47  \n",
       "5  13-07-2016 22:28:59  \n",
       "6  14-07-2016 07:13:15  \n",
       "7  15-07-2016 06:07:52  \n",
       "8  15-07-2016 18:50:51  \n",
       "9       11/7/2016 7:25  "
      ]
     },
     "execution_count": 6,
     "metadata": {},
     "output_type": "execute_result"
    }
   ],
   "source": [
    "df.head(10)"
   ]
  },
  {
   "cell_type": "code",
   "execution_count": 7,
   "id": "d73ea470",
   "metadata": {},
   "outputs": [
    {
     "name": "stdout",
     "output_type": "stream",
     "text": [
      "<class 'pandas.core.frame.DataFrame'>\n",
      "RangeIndex: 6745 entries, 0 to 6744\n",
      "Data columns (total 6 columns):\n",
      " #   Column             Non-Null Count  Dtype  \n",
      "---  ------             --------------  -----  \n",
      " 0   Request id         6745 non-null   int64  \n",
      " 1   Pickup point       6745 non-null   object \n",
      " 2   Driver id          4095 non-null   float64\n",
      " 3   Status             6745 non-null   object \n",
      " 4   Request timestamp  6745 non-null   object \n",
      " 5   Drop timestamp     2831 non-null   object \n",
      "dtypes: float64(1), int64(1), object(4)\n",
      "memory usage: 316.3+ KB\n"
     ]
    }
   ],
   "source": [
    "df.info()"
   ]
  },
  {
   "cell_type": "code",
   "execution_count": 8,
   "id": "fe7b7c2d",
   "metadata": {},
   "outputs": [
    {
     "name": "stdout",
     "output_type": "stream",
     "text": [
      "Driver id         2650\n",
      "Drop timestamp    3914\n",
      "dtype: int64\n"
     ]
    }
   ],
   "source": [
    "#  Check for null values and count the number of nulls for each column\n",
    "null_counts = df.isnull().sum()\n",
    "\n",
    "# Filter and display columns with more than 0 null values\n",
    "columns_with_nulls = null_counts[null_counts > 0]\n",
    "print(columns_with_nulls)"
   ]
  },
  {
   "cell_type": "code",
   "execution_count": 10,
   "id": "261a7652",
   "metadata": {},
   "outputs": [
    {
     "data": {
      "text/plain": [
       "Trip Completed       2831\n",
       "No Cars Available    2650\n",
       "Cancelled            1264\n",
       "Name: Status, dtype: int64"
      ]
     },
     "execution_count": 10,
     "metadata": {},
     "output_type": "execute_result"
    }
   ],
   "source": [
    "# checking the status to understand nulls in (Drop timestamp) column\n",
    "df['Status'].value_counts()"
   ]
  },
  {
   "cell_type": "markdown",
   "id": "cc3c7aeb",
   "metadata": {},
   "source": [
    "## nulls in drop timestamp column due to cancelled and no cars available "
   ]
  },
  {
   "cell_type": "code",
   "execution_count": 11,
   "id": "860ce613",
   "metadata": {},
   "outputs": [
    {
     "name": "stdout",
     "output_type": "stream",
     "text": [
      "<class 'pandas.core.frame.DataFrame'>\n",
      "RangeIndex: 6745 entries, 0 to 6744\n",
      "Data columns (total 6 columns):\n",
      " #   Column             Non-Null Count  Dtype         \n",
      "---  ------             --------------  -----         \n",
      " 0   Request id         6745 non-null   int64         \n",
      " 1   Pickup point       6745 non-null   object        \n",
      " 2   Driver id          4095 non-null   float64       \n",
      " 3   Status             6745 non-null   object        \n",
      " 4   Request timestamp  6745 non-null   datetime64[ns]\n",
      " 5   Drop timestamp     2831 non-null   datetime64[ns]\n",
      "dtypes: datetime64[ns](2), float64(1), int64(1), object(2)\n",
      "memory usage: 316.3+ KB\n"
     ]
    }
   ],
   "source": [
    "#Convert Request timestamp & Drop timestamep to uniform datetime format\n",
    "df['Request timestamp'] = pd.to_datetime(df['Request timestamp'])\n",
    "df['Drop timestamp'] = pd.to_datetime(df['Drop timestamp'])\n",
    "df.info()"
   ]
  },
  {
   "cell_type": "code",
   "execution_count": 28,
   "id": "4a852293",
   "metadata": {},
   "outputs": [],
   "source": [
    "# Calculate trip duration in minutes\n",
    "df['Trip duration'] = (df['Drop timestamp'] - df['Request timestamp']).dt.total_seconds() / 60"
   ]
  },
  {
   "cell_type": "code",
   "execution_count": 29,
   "id": "b2fda358",
   "metadata": {},
   "outputs": [
    {
     "data": {
      "text/html": [
       "<div>\n",
       "<style scoped>\n",
       "    .dataframe tbody tr th:only-of-type {\n",
       "        vertical-align: middle;\n",
       "    }\n",
       "\n",
       "    .dataframe tbody tr th {\n",
       "        vertical-align: top;\n",
       "    }\n",
       "\n",
       "    .dataframe thead th {\n",
       "        text-align: right;\n",
       "    }\n",
       "</style>\n",
       "<table border=\"1\" class=\"dataframe\">\n",
       "  <thead>\n",
       "    <tr style=\"text-align: right;\">\n",
       "      <th></th>\n",
       "      <th>Request id</th>\n",
       "      <th>Pickup point</th>\n",
       "      <th>Driver id</th>\n",
       "      <th>Status</th>\n",
       "      <th>Request timestamp</th>\n",
       "      <th>Drop timestamp</th>\n",
       "      <th>Trip duration</th>\n",
       "    </tr>\n",
       "  </thead>\n",
       "  <tbody>\n",
       "    <tr>\n",
       "      <th>0</th>\n",
       "      <td>619</td>\n",
       "      <td>Airport</td>\n",
       "      <td>1.0</td>\n",
       "      <td>Trip Completed</td>\n",
       "      <td>2016-11-07 11:51:00</td>\n",
       "      <td>2016-11-07 13:00:00</td>\n",
       "      <td>69.000000</td>\n",
       "    </tr>\n",
       "    <tr>\n",
       "      <th>1</th>\n",
       "      <td>867</td>\n",
       "      <td>Airport</td>\n",
       "      <td>1.0</td>\n",
       "      <td>Trip Completed</td>\n",
       "      <td>2016-11-07 17:57:00</td>\n",
       "      <td>2016-11-07 18:47:00</td>\n",
       "      <td>50.000000</td>\n",
       "    </tr>\n",
       "    <tr>\n",
       "      <th>2</th>\n",
       "      <td>1807</td>\n",
       "      <td>City</td>\n",
       "      <td>1.0</td>\n",
       "      <td>Trip Completed</td>\n",
       "      <td>2016-12-07 09:17:00</td>\n",
       "      <td>2016-12-07 09:58:00</td>\n",
       "      <td>41.000000</td>\n",
       "    </tr>\n",
       "    <tr>\n",
       "      <th>3</th>\n",
       "      <td>2532</td>\n",
       "      <td>Airport</td>\n",
       "      <td>1.0</td>\n",
       "      <td>Trip Completed</td>\n",
       "      <td>2016-12-07 21:08:00</td>\n",
       "      <td>2016-12-07 22:03:00</td>\n",
       "      <td>55.000000</td>\n",
       "    </tr>\n",
       "    <tr>\n",
       "      <th>4</th>\n",
       "      <td>3112</td>\n",
       "      <td>City</td>\n",
       "      <td>1.0</td>\n",
       "      <td>Trip Completed</td>\n",
       "      <td>2016-07-13 08:33:16</td>\n",
       "      <td>2016-07-13 09:25:47</td>\n",
       "      <td>52.516667</td>\n",
       "    </tr>\n",
       "  </tbody>\n",
       "</table>\n",
       "</div>"
      ],
      "text/plain": [
       "   Request id Pickup point  Driver id          Status   Request timestamp  \\\n",
       "0         619      Airport        1.0  Trip Completed 2016-11-07 11:51:00   \n",
       "1         867      Airport        1.0  Trip Completed 2016-11-07 17:57:00   \n",
       "2        1807         City        1.0  Trip Completed 2016-12-07 09:17:00   \n",
       "3        2532      Airport        1.0  Trip Completed 2016-12-07 21:08:00   \n",
       "4        3112         City        1.0  Trip Completed 2016-07-13 08:33:16   \n",
       "\n",
       "       Drop timestamp  Trip duration  \n",
       "0 2016-11-07 13:00:00      69.000000  \n",
       "1 2016-11-07 18:47:00      50.000000  \n",
       "2 2016-12-07 09:58:00      41.000000  \n",
       "3 2016-12-07 22:03:00      55.000000  \n",
       "4 2016-07-13 09:25:47      52.516667  "
      ]
     },
     "execution_count": 29,
     "metadata": {},
     "output_type": "execute_result"
    }
   ],
   "source": [
    "#  checking the new column\n",
    "df.head()"
   ]
  },
  {
   "cell_type": "code",
   "execution_count": 30,
   "id": "0bc1888a",
   "metadata": {},
   "outputs": [
    {
     "data": {
      "text/html": [
       "<div>\n",
       "<style scoped>\n",
       "    .dataframe tbody tr th:only-of-type {\n",
       "        vertical-align: middle;\n",
       "    }\n",
       "\n",
       "    .dataframe tbody tr th {\n",
       "        vertical-align: top;\n",
       "    }\n",
       "\n",
       "    .dataframe thead th {\n",
       "        text-align: right;\n",
       "    }\n",
       "</style>\n",
       "<table border=\"1\" class=\"dataframe\">\n",
       "  <thead>\n",
       "    <tr style=\"text-align: right;\">\n",
       "      <th></th>\n",
       "      <th>Request id</th>\n",
       "      <th>Pickup point</th>\n",
       "      <th>Driver id</th>\n",
       "      <th>Status</th>\n",
       "      <th>Request timestamp</th>\n",
       "      <th>Drop timestamp</th>\n",
       "      <th>Trip duration</th>\n",
       "      <th>completed trips</th>\n",
       "    </tr>\n",
       "  </thead>\n",
       "  <tbody>\n",
       "    <tr>\n",
       "      <th>0</th>\n",
       "      <td>619</td>\n",
       "      <td>Airport</td>\n",
       "      <td>1.0</td>\n",
       "      <td>Trip Completed</td>\n",
       "      <td>2016-11-07 11:51:00</td>\n",
       "      <td>2016-11-07 13:00:00</td>\n",
       "      <td>69.000000</td>\n",
       "      <td>1</td>\n",
       "    </tr>\n",
       "    <tr>\n",
       "      <th>1</th>\n",
       "      <td>867</td>\n",
       "      <td>Airport</td>\n",
       "      <td>1.0</td>\n",
       "      <td>Trip Completed</td>\n",
       "      <td>2016-11-07 17:57:00</td>\n",
       "      <td>2016-11-07 18:47:00</td>\n",
       "      <td>50.000000</td>\n",
       "      <td>1</td>\n",
       "    </tr>\n",
       "    <tr>\n",
       "      <th>2</th>\n",
       "      <td>1807</td>\n",
       "      <td>City</td>\n",
       "      <td>1.0</td>\n",
       "      <td>Trip Completed</td>\n",
       "      <td>2016-12-07 09:17:00</td>\n",
       "      <td>2016-12-07 09:58:00</td>\n",
       "      <td>41.000000</td>\n",
       "      <td>1</td>\n",
       "    </tr>\n",
       "    <tr>\n",
       "      <th>3</th>\n",
       "      <td>2532</td>\n",
       "      <td>Airport</td>\n",
       "      <td>1.0</td>\n",
       "      <td>Trip Completed</td>\n",
       "      <td>2016-12-07 21:08:00</td>\n",
       "      <td>2016-12-07 22:03:00</td>\n",
       "      <td>55.000000</td>\n",
       "      <td>1</td>\n",
       "    </tr>\n",
       "    <tr>\n",
       "      <th>4</th>\n",
       "      <td>3112</td>\n",
       "      <td>City</td>\n",
       "      <td>1.0</td>\n",
       "      <td>Trip Completed</td>\n",
       "      <td>2016-07-13 08:33:16</td>\n",
       "      <td>2016-07-13 09:25:47</td>\n",
       "      <td>52.516667</td>\n",
       "      <td>1</td>\n",
       "    </tr>\n",
       "  </tbody>\n",
       "</table>\n",
       "</div>"
      ],
      "text/plain": [
       "   Request id Pickup point  Driver id          Status   Request timestamp  \\\n",
       "0         619      Airport        1.0  Trip Completed 2016-11-07 11:51:00   \n",
       "1         867      Airport        1.0  Trip Completed 2016-11-07 17:57:00   \n",
       "2        1807         City        1.0  Trip Completed 2016-12-07 09:17:00   \n",
       "3        2532      Airport        1.0  Trip Completed 2016-12-07 21:08:00   \n",
       "4        3112         City        1.0  Trip Completed 2016-07-13 08:33:16   \n",
       "\n",
       "       Drop timestamp  Trip duration  completed trips  \n",
       "0 2016-11-07 13:00:00      69.000000                1  \n",
       "1 2016-11-07 18:47:00      50.000000                1  \n",
       "2 2016-12-07 09:58:00      41.000000                1  \n",
       "3 2016-12-07 22:03:00      55.000000                1  \n",
       "4 2016-07-13 09:25:47      52.516667                1  "
      ]
     },
     "execution_count": 30,
     "metadata": {},
     "output_type": "execute_result"
    }
   ],
   "source": [
    "# Add a new column 'is_completed' that indicates whether a trip is completed or not\n",
    "df['completed trips'] = df['Status'].apply(lambda x: 1 if x == 'Trip Completed' else 0)\n",
    "df.head()"
   ]
  },
  {
   "cell_type": "code",
   "execution_count": 34,
   "id": "796b87eb",
   "metadata": {},
   "outputs": [],
   "source": [
    "# Group the data by date and calculate the number of completed trips and the mean of trip duration on each date\n",
    "completed_trips_by_date = df.loc[df['completed trips'] == 1].groupby('Request timestamp').agg({'completed trips': 'sum', 'Trip duration': 'mean'})\n"
   ]
  },
  {
   "cell_type": "code",
   "execution_count": 35,
   "id": "dbba651f",
   "metadata": {},
   "outputs": [
    {
     "data": {
      "text/html": [
       "<div>\n",
       "<style scoped>\n",
       "    .dataframe tbody tr th:only-of-type {\n",
       "        vertical-align: middle;\n",
       "    }\n",
       "\n",
       "    .dataframe tbody tr th {\n",
       "        vertical-align: top;\n",
       "    }\n",
       "\n",
       "    .dataframe thead th {\n",
       "        text-align: right;\n",
       "    }\n",
       "</style>\n",
       "<table border=\"1\" class=\"dataframe\">\n",
       "  <thead>\n",
       "    <tr style=\"text-align: right;\">\n",
       "      <th></th>\n",
       "      <th>completed trips</th>\n",
       "      <th>Trip duration</th>\n",
       "    </tr>\n",
       "    <tr>\n",
       "      <th>Request timestamp</th>\n",
       "      <th></th>\n",
       "      <th></th>\n",
       "    </tr>\n",
       "  </thead>\n",
       "  <tbody>\n",
       "    <tr>\n",
       "      <th>2016-07-13 00:06:34</th>\n",
       "      <td>1</td>\n",
       "      <td>35.783333</td>\n",
       "    </tr>\n",
       "    <tr>\n",
       "      <th>2016-07-13 00:07:58</th>\n",
       "      <td>1</td>\n",
       "      <td>77.300000</td>\n",
       "    </tr>\n",
       "    <tr>\n",
       "      <th>2016-07-13 00:34:03</th>\n",
       "      <td>1</td>\n",
       "      <td>75.083333</td>\n",
       "    </tr>\n",
       "    <tr>\n",
       "      <th>2016-07-13 00:42:20</th>\n",
       "      <td>1</td>\n",
       "      <td>58.566667</td>\n",
       "    </tr>\n",
       "    <tr>\n",
       "      <th>2016-07-13 00:44:02</th>\n",
       "      <td>1</td>\n",
       "      <td>57.183333</td>\n",
       "    </tr>\n",
       "    <tr>\n",
       "      <th>...</th>\n",
       "      <td>...</td>\n",
       "      <td>...</td>\n",
       "    </tr>\n",
       "    <tr>\n",
       "      <th>2016-12-07 23:35:00</th>\n",
       "      <td>2</td>\n",
       "      <td>-213066.191667</td>\n",
       "    </tr>\n",
       "    <tr>\n",
       "      <th>2016-12-07 23:40:00</th>\n",
       "      <td>1</td>\n",
       "      <td>-213077.683333</td>\n",
       "    </tr>\n",
       "    <tr>\n",
       "      <th>2016-12-07 23:43:00</th>\n",
       "      <td>1</td>\n",
       "      <td>-213067.800000</td>\n",
       "    </tr>\n",
       "    <tr>\n",
       "      <th>2016-12-07 23:53:00</th>\n",
       "      <td>1</td>\n",
       "      <td>-213086.083333</td>\n",
       "    </tr>\n",
       "    <tr>\n",
       "      <th>2016-12-07 23:54:00</th>\n",
       "      <td>2</td>\n",
       "      <td>-213062.991667</td>\n",
       "    </tr>\n",
       "  </tbody>\n",
       "</table>\n",
       "<p>2582 rows × 2 columns</p>\n",
       "</div>"
      ],
      "text/plain": [
       "                     completed trips  Trip duration\n",
       "Request timestamp                                  \n",
       "2016-07-13 00:06:34                1      35.783333\n",
       "2016-07-13 00:07:58                1      77.300000\n",
       "2016-07-13 00:34:03                1      75.083333\n",
       "2016-07-13 00:42:20                1      58.566667\n",
       "2016-07-13 00:44:02                1      57.183333\n",
       "...                              ...            ...\n",
       "2016-12-07 23:35:00                2 -213066.191667\n",
       "2016-12-07 23:40:00                1 -213077.683333\n",
       "2016-12-07 23:43:00                1 -213067.800000\n",
       "2016-12-07 23:53:00                1 -213086.083333\n",
       "2016-12-07 23:54:00                2 -213062.991667\n",
       "\n",
       "[2582 rows x 2 columns]"
      ]
     },
     "execution_count": 35,
     "metadata": {},
     "output_type": "execute_result"
    }
   ],
   "source": [
    "completed_trips_by_date"
   ]
  },
  {
   "cell_type": "code",
   "execution_count": 36,
   "id": "def83c5b",
   "metadata": {},
   "outputs": [
    {
     "name": "stdout",
     "output_type": "stream",
     "text": [
      "Status             Pickup point\n",
      "Cancelled          Airport          198\n",
      "                   City            1066\n",
      "No Cars Available  Airport         1713\n",
      "                   City             937\n",
      "Trip Completed     Airport         1327\n",
      "                   City            1504\n",
      "dtype: int64\n"
     ]
    }
   ],
   "source": [
    "# Group by Status and Pickup point and count the occurrences\n",
    "status_pickup_counts = df[df['Status'].isin(['Cancelled', 'No Cars Available' , 'Trip Completed'])].groupby(['Status', 'Pickup point']).size()\n",
    "\n",
    "# Display the counts\n",
    "print(status_pickup_counts)\n"
   ]
  },
  {
   "cell_type": "markdown",
   "id": "40e75c16",
   "metadata": {},
   "source": [
    "## it seems there are few cars near the airport so we need to increase No. of cars near the airport "
   ]
  },
  {
   "cell_type": "code",
   "execution_count": 37,
   "id": "b8332fd2",
   "metadata": {},
   "outputs": [],
   "source": [
    "# let' Extract day of the week from 'Request timestamp'\n",
    "df['Day of Week'] = df['Request timestamp'].dt.day_name()\n",
    "\n",
    "# Count the number of requests for each day of the week\n",
    "day_counts = df['Day of Week'].value_counts()"
   ]
  },
  {
   "cell_type": "code",
   "execution_count": 38,
   "id": "566d714a",
   "metadata": {},
   "outputs": [
    {
     "data": {
      "text/plain": [
       "Wednesday    2644\n",
       "Friday       1381\n",
       "Monday       1367\n",
       "Thursday     1353\n",
       "Name: Day of Week, dtype: int64"
      ]
     },
     "execution_count": 38,
     "metadata": {},
     "output_type": "execute_result"
    }
   ],
   "source": [
    "day_counts"
   ]
  },
  {
   "cell_type": "markdown",
   "id": "2782ef83",
   "metadata": {},
   "source": [
    "## we need more data for the missing days "
   ]
  },
  {
   "cell_type": "code",
   "execution_count": 63,
   "id": "ff8bcc07",
   "metadata": {},
   "outputs": [],
   "source": [
    "# Group by 'Day of Week', 'Status', and 'Pickup point', and count the occurrences\n",
    "status_counts_per_day = df.groupby(['Pickup point' , 'Day of Week' , 'Status']).size().unstack()"
   ]
  },
  {
   "cell_type": "code",
   "execution_count": 64,
   "id": "6073b003",
   "metadata": {},
   "outputs": [
    {
     "data": {
      "text/html": [
       "<div>\n",
       "<style scoped>\n",
       "    .dataframe tbody tr th:only-of-type {\n",
       "        vertical-align: middle;\n",
       "    }\n",
       "\n",
       "    .dataframe tbody tr th {\n",
       "        vertical-align: top;\n",
       "    }\n",
       "\n",
       "    .dataframe thead th {\n",
       "        text-align: right;\n",
       "    }\n",
       "</style>\n",
       "<table border=\"1\" class=\"dataframe\">\n",
       "  <thead>\n",
       "    <tr style=\"text-align: right;\">\n",
       "      <th></th>\n",
       "      <th>Status</th>\n",
       "      <th>Cancelled</th>\n",
       "      <th>No Cars Available</th>\n",
       "      <th>Trip Completed</th>\n",
       "    </tr>\n",
       "    <tr>\n",
       "      <th>Pickup point</th>\n",
       "      <th>Day of Week</th>\n",
       "      <th></th>\n",
       "      <th></th>\n",
       "      <th></th>\n",
       "    </tr>\n",
       "  </thead>\n",
       "  <tbody>\n",
       "    <tr>\n",
       "      <th rowspan=\"4\" valign=\"top\">Airport</th>\n",
       "      <th>Friday</th>\n",
       "      <td>31</td>\n",
       "      <td>330</td>\n",
       "      <td>268</td>\n",
       "    </tr>\n",
       "    <tr>\n",
       "      <th>Monday</th>\n",
       "      <td>42</td>\n",
       "      <td>338</td>\n",
       "      <td>281</td>\n",
       "    </tr>\n",
       "    <tr>\n",
       "      <th>Thursday</th>\n",
       "      <td>32</td>\n",
       "      <td>378</td>\n",
       "      <td>191</td>\n",
       "    </tr>\n",
       "    <tr>\n",
       "      <th>Wednesday</th>\n",
       "      <td>93</td>\n",
       "      <td>667</td>\n",
       "      <td>587</td>\n",
       "    </tr>\n",
       "    <tr>\n",
       "      <th rowspan=\"4\" valign=\"top\">City</th>\n",
       "      <th>Friday</th>\n",
       "      <td>209</td>\n",
       "      <td>250</td>\n",
       "      <td>293</td>\n",
       "    </tr>\n",
       "    <tr>\n",
       "      <th>Monday</th>\n",
       "      <td>220</td>\n",
       "      <td>166</td>\n",
       "      <td>320</td>\n",
       "    </tr>\n",
       "    <tr>\n",
       "      <th>Thursday</th>\n",
       "      <td>220</td>\n",
       "      <td>193</td>\n",
       "      <td>339</td>\n",
       "    </tr>\n",
       "    <tr>\n",
       "      <th>Wednesday</th>\n",
       "      <td>417</td>\n",
       "      <td>328</td>\n",
       "      <td>552</td>\n",
       "    </tr>\n",
       "  </tbody>\n",
       "</table>\n",
       "</div>"
      ],
      "text/plain": [
       "Status                    Cancelled  No Cars Available  Trip Completed\n",
       "Pickup point Day of Week                                              \n",
       "Airport      Friday              31                330             268\n",
       "             Monday              42                338             281\n",
       "             Thursday            32                378             191\n",
       "             Wednesday           93                667             587\n",
       "City         Friday             209                250             293\n",
       "             Monday             220                166             320\n",
       "             Thursday           220                193             339\n",
       "             Wednesday          417                328             552"
      ]
     },
     "execution_count": 64,
     "metadata": {},
     "output_type": "execute_result"
    }
   ],
   "source": [
    "status_counts_per_day"
   ]
  },
  {
   "cell_type": "code",
   "execution_count": 65,
   "id": "a31879e2",
   "metadata": {},
   "outputs": [
    {
     "name": "stdout",
     "output_type": "stream",
     "text": [
      "The driver with the most trips is 27.0 with 22 trips.\n"
     ]
    }
   ],
   "source": [
    "# Group by 'Driver id' and count the number of trips for each driver\n",
    "driver_trip_counts = df.groupby('Driver id').size()\n",
    "\n",
    "# Find the driver with the maximum number of trips\n",
    "most_trips_driver = driver_trip_counts.idxmax()\n",
    "most_trips_count = driver_trip_counts.max()\n",
    "\n",
    "print(f\"The driver with the most trips is {most_trips_driver} with {most_trips_count} trips.\")\n"
   ]
  },
  {
   "cell_type": "code",
   "execution_count": 68,
   "id": "5111de69",
   "metadata": {},
   "outputs": [
    {
     "name": "stdout",
     "output_type": "stream",
     "text": [
      "Driver with the most completed trips on each day:\n",
      "On Friday, driver (70.0, 'Friday') completed the most trips with 8 trips.\n",
      "On Monday, driver (22.0, 'Monday') completed the most trips with 8 trips.\n",
      "On Thursday, driver (37.0, 'Thursday') completed the most trips with 7 trips.\n",
      "On Wednesday, driver (54.0, 'Wednesday') completed the most trips with 12 trips.\n"
     ]
    }
   ],
   "source": [
    "# Group by 'Driver id' and 'Day', then count the number of trips for each driver on each day\n",
    "daily_trip_counts = df.groupby(['Driver id', 'Day of Week']).size()\n",
    "\n",
    "# Find the driver with the maximum number of trips for each day\n",
    "most_trips_per_day = daily_trip_counts.groupby('Day of Week').idxmax()\n",
    "most_trips_count_per_day = daily_trip_counts.groupby('Day of Week').max()\n",
    "\n",
    "# Display the results\n",
    "print(\"Driver with the most completed trips on each day:\")\n",
    "for day, driver_id in most_trips_per_day.items():\n",
    "    print(f\"On {day}, driver {driver_id} completed the most trips with {most_trips_count_per_day[day]} trips.\")\n"
   ]
  },
  {
   "cell_type": "code",
   "execution_count": 74,
   "id": "11192838",
   "metadata": {},
   "outputs": [
    {
     "name": "stdout",
     "output_type": "stream",
     "text": [
      "Top three drivers with the most trips within any 24-hour period:\n",
      "Driver 70.0 made 8 trips in a 24-hour period.\n",
      "Driver 284.0 made 8 trips in a 24-hour period.\n",
      "Driver 194.0 made 8 trips in a 24-hour period.\n"
     ]
    }
   ],
   "source": [
    "driver_trips_24hrs = df.groupby(['Driver id', pd.Grouper(key='Request timestamp', freq='24H')]).size().reset_index(name='Number of Trips')\n",
    "\n",
    "# Find the top three drivers who made the most trips within any 24-hour period\n",
    "top_drivers_24hrs = driver_trips_24hrs.sort_values(by='Number of Trips', ascending=False).head(3)\n",
    "\n",
    "# Display the result\n",
    "print(\"Top three drivers with the most trips within any 24-hour period:\")\n",
    "for index, row in top_drivers_24hrs.iterrows():\n",
    "    print(f\"Driver {row['Driver id']} made {row['Number of Trips']} trips in a 24-hour period.\")"
   ]
  },
  {
   "cell_type": "code",
   "execution_count": 75,
   "id": "d4d38151",
   "metadata": {},
   "outputs": [],
   "source": [
    "# Extract the hour of the day from the 'Request timestamp'\n",
    "df['Hour'] = df['Request timestamp'].dt.hour\n",
    "\n",
    "# Group by the hour of the day and count the number of requests for each hour\n",
    "hourly_request_count = df.groupby('Hour').size()"
   ]
  },
  {
   "cell_type": "code",
   "execution_count": 77,
   "id": "9b4e3919",
   "metadata": {},
   "outputs": [
    {
     "data": {
      "text/plain": [
       "Hour\n",
       "18    510\n",
       "20    492\n",
       "19    473\n",
       "21    449\n",
       "5     445\n",
       "9     431\n",
       "8     423\n",
       "17    418\n",
       "7     406\n",
       "6     398\n",
       "22    304\n",
       "10    243\n",
       "4     203\n",
       "23    194\n",
       "12    184\n",
       "15    171\n",
       "11    171\n",
       "13    160\n",
       "16    159\n",
       "14    136\n",
       "2      99\n",
       "0      99\n",
       "3      92\n",
       "1      85\n",
       "dtype: int64"
      ]
     },
     "execution_count": 77,
     "metadata": {},
     "output_type": "execute_result"
    }
   ],
   "source": [
    "hourly_request_count.sort_values(ascending = False)"
   ]
  },
  {
   "cell_type": "code",
   "execution_count": 87,
   "id": "298af009",
   "metadata": {},
   "outputs": [
    {
     "name": "stderr",
     "output_type": "stream",
     "text": [
      "C:\\Users\\HP\\AppData\\Local\\Temp\\ipykernel_9596\\414950479.py:5: SettingWithCopyWarning: \n",
      "A value is trying to be set on a copy of a slice from a DataFrame.\n",
      "Try using .loc[row_indexer,col_indexer] = value instead\n",
      "\n",
      "See the caveats in the documentation: https://pandas.pydata.org/pandas-docs/stable/user_guide/indexing.html#returning-a-view-versus-a-copy\n",
      "  no_cars_available_df.loc[:, 'Hour'] = df['Request timestamp'].dt.hour\n"
     ]
    }
   ],
   "source": [
    "# Filter for rows where status is \"No Cars Available\"\n",
    "no_cars_available_df = df[df['Status'] == 'No Cars Available']\n",
    "\n",
    "# Extract the hour of the day from the 'Request timestamp'\n",
    "no_cars_available_df.loc[:, 'Hour'] = df['Request timestamp'].dt.hour\n",
    "\n",
    "# Count the number of \"No Cars Available\" for each hour\n",
    "hourly_no_cars_available_count = no_cars_available_df.groupby('Hour').size()\n"
   ]
  },
  {
   "cell_type": "code",
   "execution_count": 88,
   "id": "a34d2724",
   "metadata": {},
   "outputs": [
    {
     "data": {
      "text/plain": [
       "Hour\n",
       "18    322\n",
       "20    290\n",
       "19    283\n",
       "21    265\n",
       "17    232\n",
       "22    138\n",
       "dtype: int64"
      ]
     },
     "execution_count": 88,
     "metadata": {},
     "output_type": "execute_result"
    }
   ],
   "source": [
    "hourly_no_cars_available_count[hourly_no_cars_available_count > 90].sort_values(ascending = False)"
   ]
  },
  {
   "cell_type": "markdown",
   "id": "cd28ef0d",
   "metadata": {},
   "source": [
    "## they have to increase No. of cars at these hours ( from 17 to 22 )"
   ]
  },
  {
   "cell_type": "markdown",
   "id": "5f812189",
   "metadata": {},
   "source": [
    "## Thanks👍"
   ]
  },
  {
   "cell_type": "code",
   "execution_count": null,
   "id": "d6620ceb",
   "metadata": {},
   "outputs": [],
   "source": []
  }
 ],
 "metadata": {
  "kernelspec": {
   "display_name": "Python 3 (ipykernel)",
   "language": "python",
   "name": "python3"
  },
  "language_info": {
   "codemirror_mode": {
    "name": "ipython",
    "version": 3
   },
   "file_extension": ".py",
   "mimetype": "text/x-python",
   "name": "python",
   "nbconvert_exporter": "python",
   "pygments_lexer": "ipython3",
   "version": "3.10.9"
  }
 },
 "nbformat": 4,
 "nbformat_minor": 5
}
