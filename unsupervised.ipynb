{
 "cells": [
  {
   "cell_type": "code",
   "execution_count": 44,
   "id": "be2f0563",
   "metadata": {},
   "outputs": [],
   "source": [
    "# importing libraries\n",
    "import pandas as pd \n",
    "import numpy as np \n",
    "import seaborn as sns\n",
    "import matplotlib.pyplot as plt "
   ]
  },
  {
   "cell_type": "code",
   "execution_count": 45,
   "id": "2193e894",
   "metadata": {},
   "outputs": [],
   "source": [
    "# uploading our CSV file \n",
    "df = pd.read_csv(r\"D:\\Data\\Country-data.csv\" , encoding = 'utf-8')"
   ]
  },
  {
   "cell_type": "code",
   "execution_count": 82,
   "id": "2e1abc78",
   "metadata": {},
   "outputs": [],
   "source": [
    "df2 = pd.read_csv(r\"D:\\Data\\Country-data.csv\" , encoding = 'utf-8')"
   ]
  },
  {
   "cell_type": "markdown",
   "id": "8104f7fa",
   "metadata": {},
   "source": [
    "## Getting familiar with our data "
   ]
  },
  {
   "cell_type": "code",
   "execution_count": 46,
   "id": "a5c21c53",
   "metadata": {},
   "outputs": [
    {
     "data": {
      "text/html": [
       "<div>\n",
       "<style scoped>\n",
       "    .dataframe tbody tr th:only-of-type {\n",
       "        vertical-align: middle;\n",
       "    }\n",
       "\n",
       "    .dataframe tbody tr th {\n",
       "        vertical-align: top;\n",
       "    }\n",
       "\n",
       "    .dataframe thead th {\n",
       "        text-align: right;\n",
       "    }\n",
       "</style>\n",
       "<table border=\"1\" class=\"dataframe\">\n",
       "  <thead>\n",
       "    <tr style=\"text-align: right;\">\n",
       "      <th></th>\n",
       "      <th>country</th>\n",
       "      <th>child_mort</th>\n",
       "      <th>exports</th>\n",
       "      <th>health</th>\n",
       "      <th>imports</th>\n",
       "      <th>income</th>\n",
       "      <th>inflation</th>\n",
       "      <th>life_expec</th>\n",
       "      <th>total_fer</th>\n",
       "      <th>gdpp</th>\n",
       "    </tr>\n",
       "  </thead>\n",
       "  <tbody>\n",
       "    <tr>\n",
       "      <th>0</th>\n",
       "      <td>Afghanistan</td>\n",
       "      <td>90.2</td>\n",
       "      <td>10.0</td>\n",
       "      <td>7.58</td>\n",
       "      <td>44.9</td>\n",
       "      <td>1610</td>\n",
       "      <td>9.440</td>\n",
       "      <td>56.2</td>\n",
       "      <td>5.82</td>\n",
       "      <td>553</td>\n",
       "    </tr>\n",
       "    <tr>\n",
       "      <th>1</th>\n",
       "      <td>Albania</td>\n",
       "      <td>16.6</td>\n",
       "      <td>28.0</td>\n",
       "      <td>6.55</td>\n",
       "      <td>48.6</td>\n",
       "      <td>9930</td>\n",
       "      <td>4.490</td>\n",
       "      <td>76.3</td>\n",
       "      <td>1.65</td>\n",
       "      <td>4090</td>\n",
       "    </tr>\n",
       "    <tr>\n",
       "      <th>2</th>\n",
       "      <td>Algeria</td>\n",
       "      <td>27.3</td>\n",
       "      <td>38.4</td>\n",
       "      <td>4.17</td>\n",
       "      <td>31.4</td>\n",
       "      <td>12900</td>\n",
       "      <td>16.100</td>\n",
       "      <td>76.5</td>\n",
       "      <td>2.89</td>\n",
       "      <td>4460</td>\n",
       "    </tr>\n",
       "    <tr>\n",
       "      <th>3</th>\n",
       "      <td>Angola</td>\n",
       "      <td>119.0</td>\n",
       "      <td>62.3</td>\n",
       "      <td>2.85</td>\n",
       "      <td>42.9</td>\n",
       "      <td>5900</td>\n",
       "      <td>22.400</td>\n",
       "      <td>60.1</td>\n",
       "      <td>6.16</td>\n",
       "      <td>3530</td>\n",
       "    </tr>\n",
       "    <tr>\n",
       "      <th>4</th>\n",
       "      <td>Antigua and Barbuda</td>\n",
       "      <td>10.3</td>\n",
       "      <td>45.5</td>\n",
       "      <td>6.03</td>\n",
       "      <td>58.9</td>\n",
       "      <td>19100</td>\n",
       "      <td>1.440</td>\n",
       "      <td>76.8</td>\n",
       "      <td>2.13</td>\n",
       "      <td>12200</td>\n",
       "    </tr>\n",
       "    <tr>\n",
       "      <th>5</th>\n",
       "      <td>Argentina</td>\n",
       "      <td>14.5</td>\n",
       "      <td>18.9</td>\n",
       "      <td>8.10</td>\n",
       "      <td>16.0</td>\n",
       "      <td>18700</td>\n",
       "      <td>20.900</td>\n",
       "      <td>75.8</td>\n",
       "      <td>2.37</td>\n",
       "      <td>10300</td>\n",
       "    </tr>\n",
       "    <tr>\n",
       "      <th>6</th>\n",
       "      <td>Armenia</td>\n",
       "      <td>18.1</td>\n",
       "      <td>20.8</td>\n",
       "      <td>4.40</td>\n",
       "      <td>45.3</td>\n",
       "      <td>6700</td>\n",
       "      <td>7.770</td>\n",
       "      <td>73.3</td>\n",
       "      <td>1.69</td>\n",
       "      <td>3220</td>\n",
       "    </tr>\n",
       "    <tr>\n",
       "      <th>7</th>\n",
       "      <td>Australia</td>\n",
       "      <td>4.8</td>\n",
       "      <td>19.8</td>\n",
       "      <td>8.73</td>\n",
       "      <td>20.9</td>\n",
       "      <td>41400</td>\n",
       "      <td>1.160</td>\n",
       "      <td>82.0</td>\n",
       "      <td>1.93</td>\n",
       "      <td>51900</td>\n",
       "    </tr>\n",
       "    <tr>\n",
       "      <th>8</th>\n",
       "      <td>Austria</td>\n",
       "      <td>4.3</td>\n",
       "      <td>51.3</td>\n",
       "      <td>11.00</td>\n",
       "      <td>47.8</td>\n",
       "      <td>43200</td>\n",
       "      <td>0.873</td>\n",
       "      <td>80.5</td>\n",
       "      <td>1.44</td>\n",
       "      <td>46900</td>\n",
       "    </tr>\n",
       "    <tr>\n",
       "      <th>9</th>\n",
       "      <td>Azerbaijan</td>\n",
       "      <td>39.2</td>\n",
       "      <td>54.3</td>\n",
       "      <td>5.88</td>\n",
       "      <td>20.7</td>\n",
       "      <td>16000</td>\n",
       "      <td>13.800</td>\n",
       "      <td>69.1</td>\n",
       "      <td>1.92</td>\n",
       "      <td>5840</td>\n",
       "    </tr>\n",
       "  </tbody>\n",
       "</table>\n",
       "</div>"
      ],
      "text/plain": [
       "               country  child_mort  exports  health  imports  income  \\\n",
       "0          Afghanistan        90.2     10.0    7.58     44.9    1610   \n",
       "1              Albania        16.6     28.0    6.55     48.6    9930   \n",
       "2              Algeria        27.3     38.4    4.17     31.4   12900   \n",
       "3               Angola       119.0     62.3    2.85     42.9    5900   \n",
       "4  Antigua and Barbuda        10.3     45.5    6.03     58.9   19100   \n",
       "5            Argentina        14.5     18.9    8.10     16.0   18700   \n",
       "6              Armenia        18.1     20.8    4.40     45.3    6700   \n",
       "7            Australia         4.8     19.8    8.73     20.9   41400   \n",
       "8              Austria         4.3     51.3   11.00     47.8   43200   \n",
       "9           Azerbaijan        39.2     54.3    5.88     20.7   16000   \n",
       "\n",
       "   inflation  life_expec  total_fer   gdpp  \n",
       "0      9.440        56.2       5.82    553  \n",
       "1      4.490        76.3       1.65   4090  \n",
       "2     16.100        76.5       2.89   4460  \n",
       "3     22.400        60.1       6.16   3530  \n",
       "4      1.440        76.8       2.13  12200  \n",
       "5     20.900        75.8       2.37  10300  \n",
       "6      7.770        73.3       1.69   3220  \n",
       "7      1.160        82.0       1.93  51900  \n",
       "8      0.873        80.5       1.44  46900  \n",
       "9     13.800        69.1       1.92   5840  "
      ]
     },
     "execution_count": 46,
     "metadata": {},
     "output_type": "execute_result"
    }
   ],
   "source": [
    "df.head(10)"
   ]
  },
  {
   "cell_type": "markdown",
   "id": "492e7853",
   "metadata": {},
   "source": [
    "## this is unsupervised ML so i don't need country column"
   ]
  },
  {
   "cell_type": "code",
   "execution_count": 47,
   "id": "d3f757ed",
   "metadata": {},
   "outputs": [],
   "source": [
    "df = df.drop('country' , axis=1)"
   ]
  },
  {
   "cell_type": "code",
   "execution_count": 48,
   "id": "527c4121",
   "metadata": {},
   "outputs": [
    {
     "data": {
      "text/plain": [
       "(167, 9)"
      ]
     },
     "execution_count": 48,
     "metadata": {},
     "output_type": "execute_result"
    }
   ],
   "source": [
    "df.shape"
   ]
  },
  {
   "cell_type": "code",
   "execution_count": 49,
   "id": "bb9a5157",
   "metadata": {},
   "outputs": [
    {
     "name": "stdout",
     "output_type": "stream",
     "text": [
      "<class 'pandas.core.frame.DataFrame'>\n",
      "RangeIndex: 167 entries, 0 to 166\n",
      "Data columns (total 9 columns):\n",
      " #   Column      Non-Null Count  Dtype  \n",
      "---  ------      --------------  -----  \n",
      " 0   child_mort  167 non-null    float64\n",
      " 1   exports     167 non-null    float64\n",
      " 2   health      167 non-null    float64\n",
      " 3   imports     167 non-null    float64\n",
      " 4   income      167 non-null    int64  \n",
      " 5   inflation   167 non-null    float64\n",
      " 6   life_expec  167 non-null    float64\n",
      " 7   total_fer   167 non-null    float64\n",
      " 8   gdpp        167 non-null    int64  \n",
      "dtypes: float64(7), int64(2)\n",
      "memory usage: 11.9 KB\n"
     ]
    }
   ],
   "source": [
    "df.info()"
   ]
  },
  {
   "cell_type": "markdown",
   "id": "884aebe1",
   "metadata": {},
   "source": [
    "## there are no nulls"
   ]
  },
  {
   "cell_type": "code",
   "execution_count": 50,
   "id": "cd8c2ac2",
   "metadata": {},
   "outputs": [
    {
     "data": {
      "text/html": [
       "<div>\n",
       "<style scoped>\n",
       "    .dataframe tbody tr th:only-of-type {\n",
       "        vertical-align: middle;\n",
       "    }\n",
       "\n",
       "    .dataframe tbody tr th {\n",
       "        vertical-align: top;\n",
       "    }\n",
       "\n",
       "    .dataframe thead th {\n",
       "        text-align: right;\n",
       "    }\n",
       "</style>\n",
       "<table border=\"1\" class=\"dataframe\">\n",
       "  <thead>\n",
       "    <tr style=\"text-align: right;\">\n",
       "      <th></th>\n",
       "      <th>child_mort</th>\n",
       "      <th>exports</th>\n",
       "      <th>health</th>\n",
       "      <th>imports</th>\n",
       "      <th>income</th>\n",
       "      <th>inflation</th>\n",
       "      <th>life_expec</th>\n",
       "      <th>total_fer</th>\n",
       "      <th>gdpp</th>\n",
       "    </tr>\n",
       "  </thead>\n",
       "  <tbody>\n",
       "    <tr>\n",
       "      <th>count</th>\n",
       "      <td>167.000000</td>\n",
       "      <td>167.000000</td>\n",
       "      <td>167.000000</td>\n",
       "      <td>167.000000</td>\n",
       "      <td>167.000000</td>\n",
       "      <td>167.000000</td>\n",
       "      <td>167.000000</td>\n",
       "      <td>167.000000</td>\n",
       "      <td>167.000000</td>\n",
       "    </tr>\n",
       "    <tr>\n",
       "      <th>mean</th>\n",
       "      <td>38.270060</td>\n",
       "      <td>41.108976</td>\n",
       "      <td>6.815689</td>\n",
       "      <td>46.890215</td>\n",
       "      <td>17144.688623</td>\n",
       "      <td>7.781832</td>\n",
       "      <td>70.555689</td>\n",
       "      <td>2.947964</td>\n",
       "      <td>12964.155689</td>\n",
       "    </tr>\n",
       "    <tr>\n",
       "      <th>std</th>\n",
       "      <td>40.328931</td>\n",
       "      <td>27.412010</td>\n",
       "      <td>2.746837</td>\n",
       "      <td>24.209589</td>\n",
       "      <td>19278.067698</td>\n",
       "      <td>10.570704</td>\n",
       "      <td>8.893172</td>\n",
       "      <td>1.513848</td>\n",
       "      <td>18328.704809</td>\n",
       "    </tr>\n",
       "    <tr>\n",
       "      <th>min</th>\n",
       "      <td>2.600000</td>\n",
       "      <td>0.109000</td>\n",
       "      <td>1.810000</td>\n",
       "      <td>0.065900</td>\n",
       "      <td>609.000000</td>\n",
       "      <td>-4.210000</td>\n",
       "      <td>32.100000</td>\n",
       "      <td>1.150000</td>\n",
       "      <td>231.000000</td>\n",
       "    </tr>\n",
       "    <tr>\n",
       "      <th>25%</th>\n",
       "      <td>8.250000</td>\n",
       "      <td>23.800000</td>\n",
       "      <td>4.920000</td>\n",
       "      <td>30.200000</td>\n",
       "      <td>3355.000000</td>\n",
       "      <td>1.810000</td>\n",
       "      <td>65.300000</td>\n",
       "      <td>1.795000</td>\n",
       "      <td>1330.000000</td>\n",
       "    </tr>\n",
       "    <tr>\n",
       "      <th>50%</th>\n",
       "      <td>19.300000</td>\n",
       "      <td>35.000000</td>\n",
       "      <td>6.320000</td>\n",
       "      <td>43.300000</td>\n",
       "      <td>9960.000000</td>\n",
       "      <td>5.390000</td>\n",
       "      <td>73.100000</td>\n",
       "      <td>2.410000</td>\n",
       "      <td>4660.000000</td>\n",
       "    </tr>\n",
       "    <tr>\n",
       "      <th>75%</th>\n",
       "      <td>62.100000</td>\n",
       "      <td>51.350000</td>\n",
       "      <td>8.600000</td>\n",
       "      <td>58.750000</td>\n",
       "      <td>22800.000000</td>\n",
       "      <td>10.750000</td>\n",
       "      <td>76.800000</td>\n",
       "      <td>3.880000</td>\n",
       "      <td>14050.000000</td>\n",
       "    </tr>\n",
       "    <tr>\n",
       "      <th>max</th>\n",
       "      <td>208.000000</td>\n",
       "      <td>200.000000</td>\n",
       "      <td>17.900000</td>\n",
       "      <td>174.000000</td>\n",
       "      <td>125000.000000</td>\n",
       "      <td>104.000000</td>\n",
       "      <td>82.800000</td>\n",
       "      <td>7.490000</td>\n",
       "      <td>105000.000000</td>\n",
       "    </tr>\n",
       "  </tbody>\n",
       "</table>\n",
       "</div>"
      ],
      "text/plain": [
       "       child_mort     exports      health     imports         income  \\\n",
       "count  167.000000  167.000000  167.000000  167.000000     167.000000   \n",
       "mean    38.270060   41.108976    6.815689   46.890215   17144.688623   \n",
       "std     40.328931   27.412010    2.746837   24.209589   19278.067698   \n",
       "min      2.600000    0.109000    1.810000    0.065900     609.000000   \n",
       "25%      8.250000   23.800000    4.920000   30.200000    3355.000000   \n",
       "50%     19.300000   35.000000    6.320000   43.300000    9960.000000   \n",
       "75%     62.100000   51.350000    8.600000   58.750000   22800.000000   \n",
       "max    208.000000  200.000000   17.900000  174.000000  125000.000000   \n",
       "\n",
       "        inflation  life_expec   total_fer           gdpp  \n",
       "count  167.000000  167.000000  167.000000     167.000000  \n",
       "mean     7.781832   70.555689    2.947964   12964.155689  \n",
       "std     10.570704    8.893172    1.513848   18328.704809  \n",
       "min     -4.210000   32.100000    1.150000     231.000000  \n",
       "25%      1.810000   65.300000    1.795000    1330.000000  \n",
       "50%      5.390000   73.100000    2.410000    4660.000000  \n",
       "75%     10.750000   76.800000    3.880000   14050.000000  \n",
       "max    104.000000   82.800000    7.490000  105000.000000  "
      ]
     },
     "execution_count": 50,
     "metadata": {},
     "output_type": "execute_result"
    }
   ],
   "source": [
    "df.describe()"
   ]
  },
  {
   "cell_type": "markdown",
   "id": "ffeaa77e",
   "metadata": {},
   "source": [
    "## our data has outliers and it needs to be scales so we'll do it later"
   ]
  },
  {
   "cell_type": "code",
   "execution_count": 51,
   "id": "7ae30f01",
   "metadata": {},
   "outputs": [
    {
     "data": {
      "text/plain": [
       "0"
      ]
     },
     "execution_count": 51,
     "metadata": {},
     "output_type": "execute_result"
    }
   ],
   "source": [
    "# check duplicates\n",
    "df.duplicated().sum()"
   ]
  },
  {
   "cell_type": "code",
   "execution_count": 52,
   "id": "b1ee9c60",
   "metadata": {},
   "outputs": [
    {
     "data": {
      "image/png": "[encoded data removed]",
      "text/plain": [
       "<Figure size 640x480 with 1 Axes>"
      ]
     },
     "metadata": {},
     "output_type": "display_data"
    }
   ],
   "source": [
    "# check outliers\n",
    "sns.boxplot(data = df)\n",
    "plt.xticks(rotation=30)  \n",
    "plt.show();"
   ]
  },
  {
   "cell_type": "markdown",
   "id": "773ad229",
   "metadata": {},
   "source": [
    "## there are outliers in two columns but up to this data, outliers are acceptable"
   ]
  },
  {
   "cell_type": "code",
   "execution_count": 53,
   "id": "8221079d",
   "metadata": {},
   "outputs": [
    {
     "data": {
      "text/plain": [
       "0"
      ]
     },
     "execution_count": 53,
     "metadata": {},
     "output_type": "execute_result"
    }
   ],
   "source": [
    "# check duplicates\n",
    "df.duplicated().sum()"
   ]
  },
  {
   "cell_type": "markdown",
   "id": "5e3464e4",
   "metadata": {},
   "source": [
    "## lets scale our data before building our models, i'll use robust scaler because it can handle outliers"
   ]
  },
  {
   "cell_type": "code",
   "execution_count": 54,
   "id": "f1a9ecad",
   "metadata": {},
   "outputs": [],
   "source": [
    "# making a copy\n",
    "# df1=df.copy()"
   ]
  },
  {
   "cell_type": "code",
   "execution_count": 55,
   "id": "ce5cf538",
   "metadata": {},
   "outputs": [],
   "source": [
    "from sklearn.preprocessing import RobustScaler\n",
    "scaler = RobustScaler()\n",
    "\n",
    "scaled_data = scaler.fit_transform(data)\n",
    "\n",
    "df[df.columns[:]] = scaled_data"
   ]
  },
  {
   "cell_type": "code",
   "execution_count": 56,
   "id": "56e40a38",
   "metadata": {},
   "outputs": [
    {
     "data": {
      "text/html": [
       "<div>\n",
       "<style scoped>\n",
       "    .dataframe tbody tr th:only-of-type {\n",
       "        vertical-align: middle;\n",
       "    }\n",
       "\n",
       "    .dataframe tbody tr th {\n",
       "        vertical-align: top;\n",
       "    }\n",
       "\n",
       "    .dataframe thead th {\n",
       "        text-align: right;\n",
       "    }\n",
       "</style>\n",
       "<table border=\"1\" class=\"dataframe\">\n",
       "  <thead>\n",
       "    <tr style=\"text-align: right;\">\n",
       "      <th></th>\n",
       "      <th>child_mort</th>\n",
       "      <th>exports</th>\n",
       "      <th>health</th>\n",
       "      <th>imports</th>\n",
       "      <th>income</th>\n",
       "      <th>inflation</th>\n",
       "      <th>life_expec</th>\n",
       "      <th>total_fer</th>\n",
       "      <th>gdpp</th>\n",
       "    </tr>\n",
       "  </thead>\n",
       "  <tbody>\n",
       "    <tr>\n",
       "      <th>0</th>\n",
       "      <td>1.316620</td>\n",
       "      <td>-0.907441</td>\n",
       "      <td>0.342391</td>\n",
       "      <td>0.056042</td>\n",
       "      <td>-0.429416</td>\n",
       "      <td>0.453020</td>\n",
       "      <td>-1.469565</td>\n",
       "      <td>1.635492</td>\n",
       "      <td>-0.322877</td>\n",
       "    </tr>\n",
       "    <tr>\n",
       "      <th>1</th>\n",
       "      <td>-0.050139</td>\n",
       "      <td>-0.254083</td>\n",
       "      <td>0.062500</td>\n",
       "      <td>0.185639</td>\n",
       "      <td>-0.001543</td>\n",
       "      <td>-0.100671</td>\n",
       "      <td>0.278261</td>\n",
       "      <td>-0.364508</td>\n",
       "      <td>-0.044811</td>\n",
       "    </tr>\n",
       "    <tr>\n",
       "      <th>2</th>\n",
       "      <td>0.148561</td>\n",
       "      <td>0.123412</td>\n",
       "      <td>-0.584239</td>\n",
       "      <td>-0.416813</td>\n",
       "      <td>0.151196</td>\n",
       "      <td>1.197987</td>\n",
       "      <td>0.295652</td>\n",
       "      <td>0.230216</td>\n",
       "      <td>-0.015723</td>\n",
       "    </tr>\n",
       "    <tr>\n",
       "      <th>3</th>\n",
       "      <td>1.851439</td>\n",
       "      <td>0.990926</td>\n",
       "      <td>-0.942935</td>\n",
       "      <td>-0.014011</td>\n",
       "      <td>-0.208794</td>\n",
       "      <td>1.902685</td>\n",
       "      <td>-1.130435</td>\n",
       "      <td>1.798561</td>\n",
       "      <td>-0.088836</td>\n",
       "    </tr>\n",
       "    <tr>\n",
       "      <th>4</th>\n",
       "      <td>-0.167131</td>\n",
       "      <td>0.381125</td>\n",
       "      <td>-0.078804</td>\n",
       "      <td>0.546410</td>\n",
       "      <td>0.470044</td>\n",
       "      <td>-0.441834</td>\n",
       "      <td>0.321739</td>\n",
       "      <td>-0.134293</td>\n",
       "      <td>0.592767</td>\n",
       "    </tr>\n",
       "  </tbody>\n",
       "</table>\n",
       "</div>"
      ],
      "text/plain": [
       "   child_mort   exports    health   imports    income  inflation  life_expec  \\\n",
       "0    1.316620 -0.907441  0.342391  0.056042 -0.429416   0.453020   -1.469565   \n",
       "1   -0.050139 -0.254083  0.062500  0.185639 -0.001543  -0.100671    0.278261   \n",
       "2    0.148561  0.123412 -0.584239 -0.416813  0.151196   1.197987    0.295652   \n",
       "3    1.851439  0.990926 -0.942935 -0.014011 -0.208794   1.902685   -1.130435   \n",
       "4   -0.167131  0.381125 -0.078804  0.546410  0.470044  -0.441834    0.321739   \n",
       "\n",
       "   total_fer      gdpp  \n",
       "0   1.635492 -0.322877  \n",
       "1  -0.364508 -0.044811  \n",
       "2   0.230216 -0.015723  \n",
       "3   1.798561 -0.088836  \n",
       "4  -0.134293  0.592767  "
      ]
     },
     "execution_count": 56,
     "metadata": {},
     "output_type": "execute_result"
    }
   ],
   "source": [
    "df.head()"
   ]
  },
  {
   "cell_type": "markdown",
   "id": "d181f3d7",
   "metadata": {},
   "source": [
    "## let's see correlation in our data"
   ]
  },
  {
   "cell_type": "code",
   "execution_count": 57,
   "id": "141cd438",
   "metadata": {},
   "outputs": [
    {
     "data": {
      "text/plain": [
       "Text(0.5, 1.0, 'Correlation Matrix')"
      ]
     },
     "execution_count": 57,
     "metadata": {},
     "output_type": "execute_result"
    },
    {
     "data": {
      "image/png": "[encoded data removed]",
      "text/plain": [
       "<Figure size 1200x800 with 2 Axes>"
      ]
     },
     "metadata": {},
     "output_type": "display_data"
    }
   ],
   "source": [
    "correlation_matrix = df.corr()\n",
    "plt.figure(figsize=(12, 8))\n",
    "sns.heatmap(correlation_matrix, annot=True, cmap='coolwarm', fmt=\".2f\")\n",
    "plt.title('Correlation Matrix', fontsize=14)\n"
   ]
  },
  {
   "cell_type": "markdown",
   "id": "507cf249",
   "metadata": {},
   "source": [
    "## there are many columns have relations with each other"
   ]
  },
  {
   "cell_type": "markdown",
   "id": "b7879cb5",
   "metadata": {},
   "source": [
    "### let's doing PCA to reuct dimension"
   ]
  },
  {
   "cell_type": "code",
   "execution_count": 59,
   "id": "cf1a3cf3",
   "metadata": {},
   "outputs": [],
   "source": [
    "from sklearn.decomposition import PCA\n",
    "n_components = 9  # You can change this number\n",
    "pca = PCA(n_components=n_components)\n",
    "pca.fit(scaled_data)\n",
    "explained_variance_ratio = pca.explained_variance_ratio_"
   ]
  },
  {
   "cell_type": "code",
   "execution_count": 60,
   "id": "7a7b5d07",
   "metadata": {},
   "outputs": [
    {
     "data": {
      "text/plain": [
       "array([0.48841948, 0.16547786, 0.14891017, 0.0942477 , 0.0600765 ,\n",
       "       0.01522075, 0.01207877, 0.00994172, 0.00562705])"
      ]
     },
     "execution_count": 60,
     "metadata": {},
     "output_type": "execute_result"
    }
   ],
   "source": [
    "explained_variance_ratio"
   ]
  },
  {
   "cell_type": "markdown",
   "id": "cfceb913",
   "metadata": {},
   "source": [
    "### i'll use five components cause them give me 0.95% of variance"
   ]
  },
  {
   "cell_type": "code",
   "execution_count": 62,
   "id": "a6e9e7d0",
   "metadata": {},
   "outputs": [],
   "source": [
    "n_components_selected = 5\n",
    "pca = PCA(n_components=n_components_selected)\n",
    "reduced_data = pca.fit_transform(scaled_data)\n"
   ]
  },
  {
   "cell_type": "code",
   "execution_count": 63,
   "id": "121dd711",
   "metadata": {},
   "outputs": [
    {
     "data": {
      "text/plain": [
       "array([[-2.29455931e+00, -7.53647921e-02, -2.91972055e-01,\n",
       "         1.29993982e+00, -1.97165029e-01],\n",
       "       [-2.74219649e-01, -6.85631098e-01, -4.10398143e-01,\n",
       "        -9.79856160e-01, -9.40391846e-02],\n",
       "       [-7.16440516e-01,  7.81059579e-01,  3.89555308e-02,\n",
       "        -1.04882945e+00,  3.76110205e-01],\n",
       "       [-2.05968854e+00,  1.42445365e+00,  1.63672110e+00,\n",
       "         9.61192860e-01,  6.59262694e-01],\n",
       "       [ 6.30217657e-01, -7.81486030e-01,  8.89185696e-02,\n",
       "        -5.96072534e-01,  1.74139359e-01],\n",
       "       [-4.53014399e-01,  1.48034077e+00, -1.01268920e+00,\n",
       "        -9.40678893e-01, -5.00446044e-01],\n",
       "       [-7.21541617e-01, -3.18605767e-01, -3.71361995e-01,\n",
       "        -1.08935764e+00,  2.76305704e-01],\n",
       "       [ 3.01014874e+00,  7.26967696e-01, -2.11070323e+00,\n",
       "         5.98449475e-01,  2.37184253e-01],\n",
       "       [ 3.34708098e+00,  1.82596851e-01, -8.73309457e-01,\n",
       "         5.63601166e-01, -5.12650309e-01],\n",
       "       [-4.75704546e-01,  6.25728586e-01,  9.54928899e-02,\n",
       "        -6.93208018e-01,  2.95237770e-01],\n",
       "       [ 1.39404326e+00, -4.38690902e-01, -8.33352151e-01,\n",
       "         1.54046007e-01,  4.32929955e-02],\n",
       "       [ 1.58169341e+00,  3.40299059e-01,  6.66008093e-01,\n",
       "        -4.44769788e-01,  6.47774213e-01],\n",
       "       [-1.41248131e+00, -1.42573460e-01, -7.78573500e-01,\n",
       "        -7.15899506e-01,  8.12876770e-01],\n",
       "       [ 7.39274649e-01, -8.04660568e-01, -4.88049041e-01,\n",
       "        -4.06770715e-01, -1.70801949e-01],\n",
       "       [-8.96221170e-02,  2.55145115e-01,  8.71501652e-01,\n",
       "        -1.09360841e+00, -3.10324240e-01],\n",
       "       [ 3.45935663e+00, -9.52614397e-02,  4.05867272e-01,\n",
       "         5.88277321e-01, -7.58614768e-01],\n",
       "       [-1.64692232e-01, -1.08013979e+00,  6.28308669e-01,\n",
       "        -5.41660820e-01,  3.33909839e-01],\n",
       "       [-1.96629446e+00, -7.19135409e-01, -1.43989153e-01,\n",
       "         1.14002339e+00,  1.00713661e+00],\n",
       "       [-5.97447475e-01, -7.74433483e-01,  6.87475121e-01,\n",
       "        -5.44174697e-01, -2.55822944e-02],\n",
       "       [-1.01775866e+00, -9.18854357e-02,  6.02605455e-02,\n",
       "        -4.94450047e-01,  4.26620400e-01],\n",
       "       [ 9.84997370e-02, -1.17017849e+00, -7.52704863e-01,\n",
       "        -8.04741377e-01, -1.07854919e+00],\n",
       "       [-7.65046022e-01, -1.80584051e-01,  3.50007018e-01,\n",
       "         4.93790433e-01, -3.85157995e-01],\n",
       "       [-2.61409707e-01,  2.56094115e-01, -1.71054542e+00,\n",
       "        -5.98732720e-01, -2.95079884e-01],\n",
       "       [ 2.85605812e+00,  2.35653625e+00,  3.44324829e-01,\n",
       "        -2.73276410e-01,  1.58625115e+00],\n",
       "       [ 3.15291393e-01, -9.85723337e-01,  1.02100505e-01,\n",
       "        -7.61973468e-01,  1.84967587e-02],\n",
       "       [-2.31695063e+00, -1.24439540e-01, -3.56983965e-01,\n",
       "         1.45720934e+00,  3.29201158e-01],\n",
       "       [-2.34335578e+00,  1.47430746e-01, -6.23912191e-01,\n",
       "         1.52172141e+00, -1.13284646e+00],\n",
       "       [-8.16138802e-01, -1.02908080e+00,  7.49474126e-01,\n",
       "        -1.89905893e-01,  1.30894319e-01],\n",
       "       [-2.04563826e+00, -5.40356699e-01, -4.03641114e-01,\n",
       "         1.26506852e+00,  8.76375648e-01],\n",
       "       [ 2.95696166e+00,  5.67663282e-01, -1.74523833e+00,\n",
       "         5.46022200e-01, -5.22960238e-01],\n",
       "       [-5.37063860e-01, -1.14857522e+00,  1.48927040e-01,\n",
       "        -5.68885443e-01,  4.77553818e-01],\n",
       "       [-2.73881454e+00, -4.63300145e-01, -3.84451228e-01,\n",
       "         1.98380489e+00,  1.21952242e+00],\n",
       "       [-2.38336861e+00, -1.78359416e-01,  6.11847706e-01,\n",
       "         1.91834498e+00,  8.19284436e-01],\n",
       "       [ 4.31114310e-01,  1.87661819e-01, -6.46493928e-01,\n",
       "        -8.62016440e-01, -2.29928054e-01],\n",
       "       [-5.34736321e-01, -1.34857611e-01, -8.05168287e-01,\n",
       "        -1.13822005e+00,  4.64442310e-01],\n",
       "       [-4.08042789e-01, -3.57961211e-01, -1.44108430e+00,\n",
       "        -7.96673875e-01,  7.15395915e-02],\n",
       "       [-1.76424530e+00, -6.42999603e-01, -9.38426769e-02,\n",
       "         6.14002636e-01,  5.24343647e-01],\n",
       "       [-2.43310752e+00,  9.57197085e-01,  9.31635633e-01,\n",
       "         1.38013980e+00, -6.02311155e-01],\n",
       "       [-1.37682678e+00,  9.53425672e-01,  2.28485621e+00,\n",
       "         1.15965639e-01,  5.52579764e-01],\n",
       "       [ 1.87526440e-01, -3.45062608e-01, -9.02139664e-01,\n",
       "        -8.24344638e-01, -9.52199160e-01],\n",
       "       [-1.81803514e+00, -4.18175465e-01,  7.47496593e-01,\n",
       "         1.30323659e+00,  5.98406488e-01],\n",
       "       [ 6.90789087e-01, -6.57846239e-01, -7.10384722e-01,\n",
       "        -6.36790429e-01,  2.29003945e-02],\n",
       "       [ 2.14335528e+00, -1.44440794e-01, -1.16083370e-01,\n",
       "        -2.96304423e-01,  3.37288018e-01],\n",
       "       [ 1.71820273e+00, -9.36766510e-01,  3.38178985e-01,\n",
       "        -3.77069171e-01, -6.41533967e-02],\n",
       "       [ 3.78797014e+00,  7.25585854e-01, -1.05866752e+00,\n",
       "         1.02133869e+00, -6.00887443e-01],\n",
       "       [-5.76889681e-01, -3.03630947e-01, -7.33678728e-01,\n",
       "        -5.45609773e-01,  2.17386796e-01],\n",
       "       [-5.08952392e-01, -2.11963027e-01, -7.23395673e-01,\n",
       "        -6.87486657e-01, -2.95288893e-01],\n",
       "       [-1.11075521e+00,  1.99310878e-01, -5.74105091e-01,\n",
       "        -6.20390929e-01,  5.02287159e-01],\n",
       "       [-4.93444367e-01, -8.77807588e-01, -4.84981330e-01,\n",
       "        -7.12933841e-01, -8.19361777e-02],\n",
       "       [-2.54354083e-01,  2.01830645e+00,  2.27860710e+00,\n",
       "         1.26745805e+00,  3.73866259e-01],\n",
       "       [-2.21499232e+00,  4.06938991e-01, -6.43861160e-01,\n",
       "         5.52058789e-02,  9.43319215e-01],\n",
       "       [ 1.23949664e+00, -8.31577086e-01,  9.90904004e-01,\n",
       "        -6.38962508e-01,  1.34847330e-01],\n",
       "       [-4.51951167e-01, -8.60353511e-01,  9.45502167e-01,\n",
       "        -3.58448936e-01,  2.54618169e-01],\n",
       "       [ 2.94669258e+00,  2.82320006e-01, -1.24642978e+00,\n",
       "         5.05617726e-01,  3.97524374e-02],\n",
       "       [ 2.51124050e+00,  2.21493409e-01, -1.85377499e+00,\n",
       "         4.54765920e-01, -6.02181793e-01],\n",
       "       [-9.84490506e-01,  1.17044125e+00,  5.47912157e-01,\n",
       "         1.61321286e-01,  9.22435302e-01],\n",
       "       [-1.79040806e+00, -5.23548853e-01, -1.34305417e-01,\n",
       "         7.93593738e-01,  3.99465167e-01],\n",
       "       [-4.23027598e-01, -5.14202038e-01, -2.17424952e-01,\n",
       "        -7.13195418e-01, -1.08785398e+00],\n",
       "       [ 2.89587672e+00,  1.23403297e-01, -1.29310533e+00,\n",
       "         4.09067179e-01, -5.72715139e-01],\n",
       "       [-1.86126587e+00,  5.85300520e-01,  4.03360838e-01,\n",
       "         2.51185522e-01,  1.05843876e-02],\n",
       "       [ 1.58185602e+00, -2.31479754e-01, -1.65339681e+00,\n",
       "        -1.95223938e-01, -3.99743204e-01],\n",
       "       [-2.23600028e-01, -9.35888809e-01, -5.28761657e-01,\n",
       "        -4.93904003e-01,  2.50067351e-01],\n",
       "       [-9.16675287e-01, -4.67139670e-01, -5.42529673e-01,\n",
       "        -2.84706346e-01,  4.86896551e-02],\n",
       "       [-2.33470287e+00,  6.27718219e-01,  5.38463068e-01,\n",
       "         9.56768571e-01,  2.31667165e-01],\n",
       "       [-2.13963622e+00, -6.41846254e-01, -5.82941989e-01,\n",
       "         1.55693054e+00, -3.75587034e-02],\n",
       "       [-5.96034335e-01, -8.93144817e-01,  1.12992523e+00,\n",
       "        -2.19193551e-01, -1.11578450e-01],\n",
       "       [-2.95594828e+00, -6.30892284e-01,  5.93713216e-01,\n",
       "         2.94909622e+00,  9.46133162e-02],\n",
       "       [ 1.29444619e+00, -9.67151608e-01,  1.26651069e+00,\n",
       "        -6.46374193e-01, -2.74307694e-01],\n",
       "       [ 2.78261528e+00,  5.80131395e-01, -6.06339616e-01,\n",
       "         2.57025121e-01, -2.91991934e-01],\n",
       "       [-1.45712090e+00,  1.31902972e-02, -4.20810887e-01,\n",
       "        -3.71551588e-01,  6.54462850e-01],\n",
       "       [-1.25342174e+00,  7.63551163e-01, -3.22301119e-01,\n",
       "        -9.71253296e-01,  8.01453712e-01],\n",
       "       [-5.40051638e-01,  9.03929868e-01, -7.20103587e-01,\n",
       "        -1.14131705e+00,  1.82633988e-01],\n",
       "       [-1.05177909e+00,  7.55877424e-01,  3.38703356e-02,\n",
       "         4.71135627e-02, -4.97685828e-01],\n",
       "       [ 4.18995310e+00, -5.40564094e-01,  1.22547190e+00,\n",
       "         8.02721464e-01, -2.54813325e-01],\n",
       "       [ 1.66836055e+00,  8.25019964e-02, -1.07141414e+00,\n",
       "         5.41579118e-02,  2.40606807e-01],\n",
       "       [ 2.24628659e+00,  8.81052453e-02, -1.73319723e+00,\n",
       "         2.49336380e-02, -7.01034129e-02],\n",
       "       [-5.46178916e-01, -1.22980253e-01, -1.02741571e-02,\n",
       "        -1.00602620e+00,  1.13792916e-01],\n",
       "       [ 2.61117517e+00,  2.24911050e-01, -2.45367688e+00,\n",
       "         2.63424599e-01,  1.45910422e-01],\n",
       "       [-3.21229248e-01, -5.09590338e-01,  6.15353419e-01,\n",
       "        -4.44209734e-01, -6.82372341e-01],\n",
       "       [-4.87318065e-01,  1.27849517e+00,  2.53912531e-01,\n",
       "        -7.51589556e-01,  3.74383149e-01],\n",
       "       [-1.62293605e+00, -6.79789220e-01, -4.51557697e-01,\n",
       "         4.05602931e-01,  7.28117316e-01],\n",
       "       [-1.25545082e+00, -1.41981030e+00, -1.59143715e-01,\n",
       "         9.29761567e-01, -1.32922140e+00],\n",
       "       [ 3.01830076e+00,  1.83531739e+00,  1.99547298e-01,\n",
       "        -2.83260261e-02,  1.73646479e+00],\n",
       "       [-7.83416192e-01, -6.09046393e-01,  1.24252767e+00,\n",
       "        -4.45018732e-01, -5.25110122e-01],\n",
       "       [-1.45691907e+00, -1.87386254e-01,  4.19694617e-01,\n",
       "         1.03086374e-01,  3.77066122e-01],\n",
       "       [ 7.20746015e-01, -1.06653534e+00,  1.32248513e-01,\n",
       "        -6.13336479e-01,  1.41748928e-01],\n",
       "       [ 4.96848884e-01, -1.05875053e+00, -2.41724767e-01,\n",
       "        -8.51253056e-01, -1.21260306e-01],\n",
       "       [-1.43530762e+00, -1.40951859e+00,  1.23173978e+00,\n",
       "         1.67424785e+00, -1.45055837e+00],\n",
       "       [-1.56825950e+00, -1.14319618e+00,  4.27015952e-01,\n",
       "         1.38064304e+00, -1.63870507e+00],\n",
       "       [ 5.26641186e-01,  7.99638010e-01,  7.78660554e-01,\n",
       "        -8.94581154e-01,  6.24288833e-01],\n",
       "       [ 9.21863184e-01, -8.59020097e-01,  7.24038241e-01,\n",
       "        -6.00882728e-01, -1.33381716e-01],\n",
       "       [ 8.99995931e+00,  1.32000159e+00,  3.69644823e+00,\n",
       "         2.52573348e+00, -9.21681235e-02],\n",
       "       [ 2.14088894e-02, -1.04512872e+00, -2.13788466e-02,\n",
       "        -8.68629804e-01, -2.06438837e-01],\n",
       "       [-1.86654333e+00, -1.27571863e-01,  1.36036390e-01,\n",
       "         3.15964479e-01,  6.14077276e-01],\n",
       "       [-2.34187131e+00,  2.54996909e-01, -1.64396019e-02,\n",
       "         1.13539715e+00,  6.92108367e-02],\n",
       "       [ 7.56978598e-01, -4.17943372e-01,  1.70777373e+00,\n",
       "        -8.73782582e-01,  3.18116137e-01],\n",
       "       [ 5.15698962e-01, -9.90388736e-01,  1.10374951e+00,\n",
       "        -8.37717192e-01, -6.28192670e-02],\n",
       "       [-2.37108879e+00, -2.97747487e-01, -5.49233027e-02,\n",
       "         1.72617907e+00,  8.18461543e-01],\n",
       "       [ 3.07612096e+00, -1.51126439e+00,  4.41471224e+00,\n",
       "        -3.90390622e-01, -1.34860263e+00],\n",
       "       [-1.69302741e+00,  7.07166540e-01,  1.36463019e+00,\n",
       "         3.10285557e-01,  1.85870952e-02],\n",
       "       [ 3.79854351e-01, -1.01441201e+00,  3.73892888e-01,\n",
       "        -6.89353413e-01,  1.23190819e-01],\n",
       "       [-7.29669127e-01, -1.31018130e+00, -1.48871117e-01,\n",
       "         5.95984005e-01, -2.11409594e+00],\n",
       "       [-4.15589867e-01, -6.88062587e-01,  4.00662672e-01,\n",
       "        -6.89979376e-01, -1.88944562e+00],\n",
       "       [-1.49727010e+00,  2.55874157e+00,  1.43402616e+00,\n",
       "        -1.20886468e+00, -1.04295592e+00],\n",
       "       [ 2.99579153e-01, -1.09732349e+00, -1.98939557e-01,\n",
       "        -6.98758747e-01, -6.80029217e-01],\n",
       "       [-6.13288052e-01, -9.40008914e-01, -3.05880373e-01,\n",
       "        -5.66679155e-01,  4.49137360e-01],\n",
       "       [-2.17845251e+00, -2.38146341e-01,  4.18867726e-01,\n",
       "         1.28104280e+00,  4.41284921e-01],\n",
       "       [-1.85647159e+00,  1.87980152e-01, -1.44453549e+00,\n",
       "        -5.22549176e-01,  1.46023195e+00],\n",
       "       [-8.22210898e-01, -8.00962961e-01,  6.35815846e-01,\n",
       "         6.26936573e-01,  6.97392407e-03],\n",
       "       [-1.65467188e+00,  4.29895599e-01, -5.11415860e-01,\n",
       "        -6.35858197e-01, -3.74480057e-02],\n",
       "       [ 3.85601520e+00,  7.95750925e-02, -1.27161873e-01,\n",
       "         8.30754950e-01, -8.15325438e-01],\n",
       "       [ 1.92506651e+00,  3.20559020e-01, -1.46877087e+00,\n",
       "         1.02324415e-01, -3.31510299e-01],\n",
       "       [-2.36419963e+00, -6.16829585e-01,  1.76067899e-01,\n",
       "         1.90669615e+00,  6.74396866e-01],\n",
       "       [-4.65008848e+00,  9.48610782e+00,  2.26924067e+00,\n",
       "        -8.79115871e-01, -2.49470263e+00],\n",
       "       [ 5.45800106e+00,  2.14005531e+00, -1.82915457e+00,\n",
       "         1.82303680e+00,  1.38255305e-01],\n",
       "       [ 1.14601454e+00,  1.35773442e+00,  7.97715213e-01,\n",
       "        -6.19144085e-01,  1.05788921e+00],\n",
       "       [-2.04303412e+00,  4.43598927e-01, -5.01181852e-01,\n",
       "         1.03487690e-01,  1.19354318e+00],\n",
       "       [ 6.38358579e-01, -1.07847583e+00,  1.06231519e+00,\n",
       "        -4.64253025e-01, -5.30466948e-01],\n",
       "       [-3.59426718e-01, -5.79519724e-01,  5.09855914e-01,\n",
       "        -7.19258827e-01,  6.27512108e-02],\n",
       "       [-4.97937057e-01, -1.97771704e-01, -7.76988288e-01,\n",
       "        -9.56769092e-01,  5.31942496e-01],\n",
       "       [-9.75753594e-01, -5.23482477e-01, -9.27807058e-02,\n",
       "        -4.92458162e-01,  8.09969245e-01],\n",
       "       [ 7.10504785e-01, -6.18878975e-01, -5.15135273e-01,\n",
       "        -7.14664766e-01,  3.54811664e-02],\n",
       "       [ 1.45187254e+00, -4.62704261e-01, -1.30992503e+00,\n",
       "        -2.91330066e-01, -6.42200961e-01],\n",
       "       [ 5.84602114e+00,  2.88262458e+00, -5.25399750e-01,\n",
       "         1.19525841e+00,  2.79100073e+00],\n",
       "       [ 8.10967085e-02, -4.72762621e-01, -4.86947986e-01,\n",
       "        -8.35401807e-01,  3.94121078e-01],\n",
       "       [-1.78209827e-01,  8.72695764e-01, -5.90066752e-01,\n",
       "        -8.96252284e-01,  4.27902635e-01],\n",
       "       [-1.58728094e+00, -7.64943035e-01, -1.13148955e+00,\n",
       "         6.98372364e-01, -5.79661497e-01],\n",
       "       [-7.54732636e-01, -9.41063863e-01, -1.86685624e-01,\n",
       "        -1.23070833e-01,  5.09762834e-02],\n",
       "       [ 8.97079166e-01,  1.58623950e+00,  1.88211437e-01,\n",
       "        -4.73018867e-01,  7.38158067e-01],\n",
       "       [-1.59104684e+00, -7.69155826e-01, -2.58254051e-01,\n",
       "         6.35038226e-01,  4.86648496e-01],\n",
       "       [ 2.28611710e-02, -6.29434800e-01, -5.52205166e-01,\n",
       "        -8.14709004e-01, -9.74771243e-01],\n",
       "       [ 1.26854910e+00, -1.84382127e+00,  2.39497535e+00,\n",
       "        -4.05689394e-01,  5.21871797e-01],\n",
       "       [-2.60597576e+00,  6.53485143e-01, -3.77603637e-01,\n",
       "         2.00149653e+00, -1.47397005e+00],\n",
       "       [ 6.02179991e+00, -9.01904489e-01,  5.85419542e+00,\n",
       "         2.80046146e-01,  2.65947556e-01],\n",
       "       [ 1.58040968e+00, -1.06451378e+00,  9.57491691e-01,\n",
       "        -3.63751383e-01, -5.23403223e-01],\n",
       "       [ 1.97613659e+00, -8.45420204e-01,  1.34261618e-01,\n",
       "        -2.41452479e-01, -4.30768726e-01],\n",
       "       [-9.53747046e-01, -9.33910271e-01,  1.04171206e+00,\n",
       "         2.98484577e-01, -8.80910764e-01],\n",
       "       [-9.70175922e-01, -1.84873972e-01, -6.14591883e-01,\n",
       "         6.27068868e-01, -1.95697483e-01],\n",
       "       [ 1.58245930e+00, -1.97893027e-01, -2.97954623e-01,\n",
       "        -6.41379881e-01,  1.59071170e-01],\n",
       "       [ 1.92213965e+00, -9.23527368e-02, -1.67993874e+00,\n",
       "        -1.86882384e-01, -1.16445404e-01],\n",
       "       [-1.22211770e+00,  1.39217431e+00, -2.71597449e-01,\n",
       "        -1.58020330e+00,  3.26199814e-01],\n",
       "       [-3.89230711e-01, -6.42181306e-01, -7.15346893e-02,\n",
       "        -6.88143124e-01,  3.20740586e-01],\n",
       "       [-2.09689004e+00,  1.19548799e+00, -4.44830575e-01,\n",
       "         1.86537586e-01, -4.21058198e-03],\n",
       "       [-9.22779942e-02, -1.78185399e-01,  1.02603226e-01,\n",
       "        -4.07066171e-01,  2.24243133e-02],\n",
       "       [ 3.44489634e+00,  4.57842786e-01, -1.10983828e+00,\n",
       "         7.03712520e-01, -1.20277570e-01],\n",
       "       [ 5.27305812e+00,  8.33671084e-01, -8.65146045e-01,\n",
       "         1.51848332e+00, -4.80651347e-01],\n",
       "       [-1.49723503e+00, -2.30195667e-02, -1.86597691e-02,\n",
       "        -2.62756207e-01, -3.25237640e-01],\n",
       "       [-2.08777862e+00,  7.00539620e-02, -3.81798218e-01,\n",
       "         7.69524268e-01,  3.16114210e-01],\n",
       "       [ 2.72421175e-01, -7.74816774e-01,  9.52172917e-01,\n",
       "        -1.14987626e+00,  4.99472967e-01],\n",
       "       [-2.21329737e+00,  1.77419096e+00, -7.31737047e-01,\n",
       "         2.85886664e-01, -1.05929423e+00],\n",
       "       [-1.54749155e+00, -1.10048747e+00,  4.23239885e-01,\n",
       "         1.17384454e+00, -6.29500555e-02],\n",
       "       [-9.80561110e-01, -7.82789575e-01, -3.13320837e-01,\n",
       "        -2.61740735e-01,  1.55024078e-01],\n",
       "       [-3.30095216e-02, -8.14978661e-01,  3.07573925e-01,\n",
       "        -8.95071850e-01,  3.70052421e-04],\n",
       "       [-1.58069975e-02,  8.43315452e-02, -1.09838268e+00,\n",
       "        -7.60714481e-01,  1.61883556e-01],\n",
       "       [-4.06960487e-01, -6.94160119e-01,  1.16059867e+00,\n",
       "        -1.84502723e-01,  1.22849779e+00],\n",
       "       [-2.25593928e+00,  1.52563941e-01, -5.25461500e-01,\n",
       "         1.26724242e+00, -3.54197669e-01],\n",
       "       [-4.57438978e-01,  2.98301007e-03,  3.46837111e-01,\n",
       "        -1.04923181e+00, -6.76354813e-01],\n",
       "       [ 2.71214425e+00,  1.24515968e+00,  1.15954925e+00,\n",
       "        -1.58004901e-01,  8.36291794e-01],\n",
       "       [ 2.33071890e+00,  2.56719581e-01, -1.56201014e+00,\n",
       "         2.80850402e-01, -1.46818269e-01],\n",
       "       [ 3.10109511e+00,  5.42538827e-01, -2.93546954e+00,\n",
       "         1.23004945e+00, -1.66353422e+00],\n",
       "       [ 1.94979597e-01, -1.75074271e-01, -1.13324279e+00,\n",
       "        -6.16750351e-01, -1.34405331e-01],\n",
       "       [-1.28772248e+00,  6.10550218e-01, -1.64977804e-01,\n",
       "        -8.36100414e-01, -7.16172778e-02],\n",
       "       [-8.81589251e-01, -9.18743324e-01,  4.42565675e-01,\n",
       "        -2.56312531e-02,  3.31498233e-01],\n",
       "       [-9.98548653e-01,  3.99953894e+00,  1.28157332e-01,\n",
       "        -1.57649153e+00, -6.76434027e-01],\n",
       "       [-2.66311881e-01, -4.75395254e-01,  1.61884108e+00,\n",
       "        -9.70759317e-01, -7.44844920e-01],\n",
       "       [-1.87806843e+00,  1.39323127e+00,  2.92087519e-01,\n",
       "        -2.40876154e-01, -1.10662158e-01],\n",
       "       [-2.18048143e+00,  5.20511880e-01,  3.47381625e-01,\n",
       "         1.05350917e+00,  2.66216963e-01]])"
      ]
     },
     "execution_count": 63,
     "metadata": {},
     "output_type": "execute_result"
    }
   ],
   "source": [
    "reduced_data"
   ]
  },
  {
   "cell_type": "markdown",
   "id": "c868c2b3",
   "metadata": {},
   "source": [
    "### before doing our KMean model let's doing elbow method"
   ]
  },
  {
   "cell_type": "code",
   "execution_count": 69,
   "id": "424a9ce5",
   "metadata": {},
   "outputs": [
    {
     "name": "stderr",
     "output_type": "stream",
     "text": [
      "C:\\Users\\HP\\anaconda3\\lib\\site-packages\\sklearn\\cluster\\_kmeans.py:870: FutureWarning: The default value of `n_init` will change from 10 to 'auto' in 1.4. Set the value of `n_init` explicitly to suppress the warning\n",
      "  warnings.warn(\n",
      "C:\\Users\\HP\\anaconda3\\lib\\site-packages\\sklearn\\cluster\\_kmeans.py:1382: UserWarning: KMeans is known to have a memory leak on Windows with MKL, when there are less chunks than available threads. You can avoid it by setting the environment variable OMP_NUM_THREADS=1.\n",
      "  warnings.warn(\n",
      "C:\\Users\\HP\\anaconda3\\lib\\site-packages\\sklearn\\cluster\\_kmeans.py:870: FutureWarning: The default value of `n_init` will change from 10 to 'auto' in 1.4. Set the value of `n_init` explicitly to suppress the warning\n",
      "  warnings.warn(\n",
      "C:\\Users\\HP\\anaconda3\\lib\\site-packages\\sklearn\\cluster\\_kmeans.py:1382: UserWarning: KMeans is known to have a memory leak on Windows with MKL, when there are less chunks than available threads. You can avoid it by setting the environment variable OMP_NUM_THREADS=1.\n",
      "  warnings.warn(\n",
      "C:\\Users\\HP\\anaconda3\\lib\\site-packages\\sklearn\\cluster\\_kmeans.py:870: FutureWarning: The default value of `n_init` will change from 10 to 'auto' in 1.4. Set the value of `n_init` explicitly to suppress the warning\n",
      "  warnings.warn(\n",
      "C:\\Users\\HP\\anaconda3\\lib\\site-packages\\sklearn\\cluster\\_kmeans.py:1382: UserWarning: KMeans is known to have a memory leak on Windows with MKL, when there are less chunks than available threads. You can avoid it by setting the environment variable OMP_NUM_THREADS=1.\n",
      "  warnings.warn(\n",
      "C:\\Users\\HP\\anaconda3\\lib\\site-packages\\sklearn\\cluster\\_kmeans.py:870: FutureWarning: The default value of `n_init` will change from 10 to 'auto' in 1.4. Set the value of `n_init` explicitly to suppress the warning\n",
      "  warnings.warn(\n",
      "C:\\Users\\HP\\anaconda3\\lib\\site-packages\\sklearn\\cluster\\_kmeans.py:1382: UserWarning: KMeans is known to have a memory leak on Windows with MKL, when there are less chunks than available threads. You can avoid it by setting the environment variable OMP_NUM_THREADS=1.\n",
      "  warnings.warn(\n",
      "C:\\Users\\HP\\anaconda3\\lib\\site-packages\\sklearn\\cluster\\_kmeans.py:870: FutureWarning: The default value of `n_init` will change from 10 to 'auto' in 1.4. Set the value of `n_init` explicitly to suppress the warning\n",
      "  warnings.warn(\n",
      "C:\\Users\\HP\\anaconda3\\lib\\site-packages\\sklearn\\cluster\\_kmeans.py:1382: UserWarning: KMeans is known to have a memory leak on Windows with MKL, when there are less chunks than available threads. You can avoid it by setting the environment variable OMP_NUM_THREADS=1.\n",
      "  warnings.warn(\n"
     ]
    },
    {
     "data": {
      "image/png": "[encoded data removed]",
      "text/plain": [
       "<Figure size 800x600 with 1 Axes>"
      ]
     },
     "metadata": {},
     "output_type": "display_data"
    }
   ],
   "source": [
    "from sklearn.cluster import KMeans\n",
    "a = []\n",
    "# Try different values of K from 1 to a maximum number\n",
    "for k in range(1, 6):\n",
    "    kmeans = KMeans(n_clusters=k, random_state=42)\n",
    "    kmeans.fit(reduced_data)\n",
    "    a.append(kmeans.inertia_)\n",
    "\n",
    "# Plot the elbow method graph\n",
    "plt.figure(figsize=(8, 6))\n",
    "plt.plot(range(1, 6), a, marker='o', linestyle='-', color='b')\n",
    "plt.title('Elbow Method for Optimal K')\n",
    "plt.xlabel('Number of Clusters (K)')\n",
    "plt.ylabel('Within-Cluster Sum of Squares (WCSS)')\n",
    "plt.grid(True)\n",
    "plt.show()\n"
   ]
  },
  {
   "cell_type": "markdown",
   "id": "956a9ac1",
   "metadata": {},
   "source": [
    "## we'll use 3 clusters"
   ]
  },
  {
   "cell_type": "markdown",
   "id": "bfd9dc66",
   "metadata": {},
   "source": [
    "### let's start with our first model"
   ]
  },
  {
   "cell_type": "code",
   "execution_count": 89,
   "id": "4b375538",
   "metadata": {},
   "outputs": [
    {
     "name": "stderr",
     "output_type": "stream",
     "text": [
      "C:\\Users\\HP\\anaconda3\\lib\\site-packages\\sklearn\\cluster\\_kmeans.py:870: FutureWarning: The default value of `n_init` will change from 10 to 'auto' in 1.4. Set the value of `n_init` explicitly to suppress the warning\n",
      "  warnings.warn(\n",
      "C:\\Users\\HP\\anaconda3\\lib\\site-packages\\sklearn\\cluster\\_kmeans.py:1382: UserWarning: KMeans is known to have a memory leak on Windows with MKL, when there are less chunks than available threads. You can avoid it by setting the environment variable OMP_NUM_THREADS=1.\n",
      "  warnings.warn(\n"
     ]
    },
    {
     "data": {
      "text/html": [
       "<style>#sk-container-id-4 {color: black;background-color: white;}#sk-container-id-4 pre{padding: 0;}#sk-container-id-4 div.sk-toggleable {background-color: white;}#sk-container-id-4 label.sk-toggleable__label {cursor: pointer;display: block;width: 100%;margin-bottom: 0;padding: 0.3em;box-sizing: border-box;text-align: center;}#sk-container-id-4 label.sk-toggleable__label-arrow:before {content: \"▸\";float: left;margin-right: 0.25em;color: #696969;}#sk-container-id-4 label.sk-toggleable__label-arrow:hover:before {color: black;}#sk-container-id-4 div.sk-estimator:hover label.sk-toggleable__label-arrow:before {color: black;}#sk-container-id-4 div.sk-toggleable__content {max-height: 0;max-width: 0;overflow: hidden;text-align: left;background-color: #f0f8ff;}#sk-container-id-4 div.sk-toggleable__content pre {margin: 0.2em;color: black;border-radius: 0.25em;background-color: #f0f8ff;}#sk-container-id-4 input.sk-toggleable__control:checked~div.sk-toggleable__content {max-height: 200px;max-width: 100%;overflow: auto;}#sk-container-id-4 input.sk-toggleable__control:checked~label.sk-toggleable__label-arrow:before {content: \"▾\";}#sk-container-id-4 div.sk-estimator input.sk-toggleable__control:checked~label.sk-toggleable__label {background-color: #d4ebff;}#sk-container-id-4 div.sk-label input.sk-toggleable__control:checked~label.sk-toggleable__label {background-color: #d4ebff;}#sk-container-id-4 input.sk-hidden--visually {border: 0;clip: rect(1px 1px 1px 1px);clip: rect(1px, 1px, 1px, 1px);height: 1px;margin: -1px;overflow: hidden;padding: 0;position: absolute;width: 1px;}#sk-container-id-4 div.sk-estimator {font-family: monospace;background-color: #f0f8ff;border: 1px dotted black;border-radius: 0.25em;box-sizing: border-box;margin-bottom: 0.5em;}#sk-container-id-4 div.sk-estimator:hover {background-color: #d4ebff;}#sk-container-id-4 div.sk-parallel-item::after {content: \"\";width: 100%;border-bottom: 1px solid gray;flex-grow: 1;}#sk-container-id-4 div.sk-label:hover label.sk-toggleable__label {background-color: #d4ebff;}#sk-container-id-4 div.sk-serial::before {content: \"\";position: absolute;border-left: 1px solid gray;box-sizing: border-box;top: 0;bottom: 0;left: 50%;z-index: 0;}#sk-container-id-4 div.sk-serial {display: flex;flex-direction: column;align-items: center;background-color: white;padding-right: 0.2em;padding-left: 0.2em;position: relative;}#sk-container-id-4 div.sk-item {position: relative;z-index: 1;}#sk-container-id-4 div.sk-parallel {display: flex;align-items: stretch;justify-content: center;background-color: white;position: relative;}#sk-container-id-4 div.sk-item::before, #sk-container-id-4 div.sk-parallel-item::before {content: \"\";position: absolute;border-left: 1px solid gray;box-sizing: border-box;top: 0;bottom: 0;left: 50%;z-index: -1;}#sk-container-id-4 div.sk-parallel-item {display: flex;flex-direction: column;z-index: 1;position: relative;background-color: white;}#sk-container-id-4 div.sk-parallel-item:first-child::after {align-self: flex-end;width: 50%;}#sk-container-id-4 div.sk-parallel-item:last-child::after {align-self: flex-start;width: 50%;}#sk-container-id-4 div.sk-parallel-item:only-child::after {width: 0;}#sk-container-id-4 div.sk-dashed-wrapped {border: 1px dashed gray;margin: 0 0.4em 0.5em 0.4em;box-sizing: border-box;padding-bottom: 0.4em;background-color: white;}#sk-container-id-4 div.sk-label label {font-family: monospace;font-weight: bold;display: inline-block;line-height: 1.2em;}#sk-container-id-4 div.sk-label-container {text-align: center;}#sk-container-id-4 div.sk-container {/* jupyter's `normalize.less` sets `[hidden] { display: none; }` but bootstrap.min.css set `[hidden] { display: none !important; }` so we also need the `!important` here to be able to override the default hidden behavior on the sphinx rendered scikit-learn.org. See: https://github.com/scikit-learn/scikit-learn/issues/21755 */display: inline-block !important;position: relative;}#sk-container-id-4 div.sk-text-repr-fallback {display: none;}</style><div id=\"sk-container-id-4\" class=\"sk-top-container\"><div class=\"sk-text-repr-fallback\"><pre>KMeans(n_clusters=3, random_state=42)</pre><b>In a Jupyter environment, please rerun this cell to show the HTML representation or trust the notebook. <br />On GitHub, the HTML representation is unable to render, please try loading this page with nbviewer.org.</b></div><div class=\"sk-container\" hidden><div class=\"sk-item\"><div class=\"sk-estimator sk-toggleable\"><input class=\"sk-toggleable__control sk-hidden--visually\" id=\"sk-estimator-id-4\" type=\"checkbox\" checked><label for=\"sk-estimator-id-4\" class=\"sk-toggleable__label sk-toggleable__label-arrow\">KMeans</label><div class=\"sk-toggleable__content\"><pre>KMeans(n_clusters=3, random_state=42)</pre></div></div></div></div></div>"
      ],
      "text/plain": [
       "KMeans(n_clusters=3, random_state=42)"
      ]
     },
     "execution_count": 89,
     "metadata": {},
     "output_type": "execute_result"
    }
   ],
   "source": [
    "kmeans = KMeans(n_clusters = 3,random_state = 42)\n",
    "kmeans.fit(reduced_data)"
   ]
  },
  {
   "cell_type": "code",
   "execution_count": 90,
   "id": "cf57e089",
   "metadata": {},
   "outputs": [
    {
     "data": {
      "text/plain": [
       "2    85\n",
       "1    53\n",
       "0    29\n",
       "dtype: int64"
      ]
     },
     "execution_count": 90,
     "metadata": {},
     "output_type": "execute_result"
    }
   ],
   "source": [
    "#count number of records in every cluster\n",
    "pd.Series(kmeans.labels_).value_counts()"
   ]
  },
  {
   "cell_type": "code",
   "execution_count": 91,
   "id": "4af0ba2d",
   "metadata": {},
   "outputs": [
    {
     "data": {
      "text/plain": [
       "0.29875477658785343"
      ]
     },
     "execution_count": 91,
     "metadata": {},
     "output_type": "execute_result"
    }
   ],
   "source": [
    "# checking our model using Silhouette coefficient\n",
    "from sklearn import metrics\n",
    "metrics.silhouette_score(reduced_data, kmeans.labels_)\n"
   ]
  },
  {
   "cell_type": "code",
   "execution_count": 92,
   "id": "f02be5a0",
   "metadata": {},
   "outputs": [
    {
     "name": "stderr",
     "output_type": "stream",
     "text": [
      "C:\\Users\\HP\\anaconda3\\lib\\site-packages\\sklearn\\cluster\\_kmeans.py:870: FutureWarning: The default value of `n_init` will change from 10 to 'auto' in 1.4. Set the value of `n_init` explicitly to suppress the warning\n",
      "  warnings.warn(\n",
      "C:\\Users\\HP\\anaconda3\\lib\\site-packages\\sklearn\\cluster\\_kmeans.py:1382: UserWarning: KMeans is known to have a memory leak on Windows with MKL, when there are less chunks than available threads. You can avoid it by setting the environment variable OMP_NUM_THREADS=1.\n",
      "  warnings.warn(\n"
     ]
    }
   ],
   "source": [
    "cluster_labels = kmeans.fit_predict(reduced_data)"
   ]
  },
  {
   "cell_type": "code",
   "execution_count": 93,
   "id": "d2e595ca",
   "metadata": {},
   "outputs": [
    {
     "data": {
      "text/html": [
       "<div>\n",
       "<style scoped>\n",
       "    .dataframe tbody tr th:only-of-type {\n",
       "        vertical-align: middle;\n",
       "    }\n",
       "\n",
       "    .dataframe tbody tr th {\n",
       "        vertical-align: top;\n",
       "    }\n",
       "\n",
       "    .dataframe thead th {\n",
       "        text-align: right;\n",
       "    }\n",
       "</style>\n",
       "<table border=\"1\" class=\"dataframe\">\n",
       "  <thead>\n",
       "    <tr style=\"text-align: right;\">\n",
       "      <th></th>\n",
       "      <th>country</th>\n",
       "      <th>child_mort</th>\n",
       "      <th>exports</th>\n",
       "      <th>health</th>\n",
       "      <th>imports</th>\n",
       "      <th>income</th>\n",
       "      <th>inflation</th>\n",
       "      <th>life_expec</th>\n",
       "      <th>total_fer</th>\n",
       "      <th>gdpp</th>\n",
       "      <th>KMeans_Clusters</th>\n",
       "    </tr>\n",
       "  </thead>\n",
       "  <tbody>\n",
       "    <tr>\n",
       "      <th>0</th>\n",
       "      <td>Afghanistan</td>\n",
       "      <td>90.2</td>\n",
       "      <td>10.0</td>\n",
       "      <td>7.58</td>\n",
       "      <td>44.9</td>\n",
       "      <td>1610</td>\n",
       "      <td>9.44</td>\n",
       "      <td>56.2</td>\n",
       "      <td>5.82</td>\n",
       "      <td>553</td>\n",
       "      <td>1</td>\n",
       "    </tr>\n",
       "    <tr>\n",
       "      <th>1</th>\n",
       "      <td>Albania</td>\n",
       "      <td>16.6</td>\n",
       "      <td>28.0</td>\n",
       "      <td>6.55</td>\n",
       "      <td>48.6</td>\n",
       "      <td>9930</td>\n",
       "      <td>4.49</td>\n",
       "      <td>76.3</td>\n",
       "      <td>1.65</td>\n",
       "      <td>4090</td>\n",
       "      <td>2</td>\n",
       "    </tr>\n",
       "    <tr>\n",
       "      <th>2</th>\n",
       "      <td>Algeria</td>\n",
       "      <td>27.3</td>\n",
       "      <td>38.4</td>\n",
       "      <td>4.17</td>\n",
       "      <td>31.4</td>\n",
       "      <td>12900</td>\n",
       "      <td>16.10</td>\n",
       "      <td>76.5</td>\n",
       "      <td>2.89</td>\n",
       "      <td>4460</td>\n",
       "      <td>2</td>\n",
       "    </tr>\n",
       "    <tr>\n",
       "      <th>3</th>\n",
       "      <td>Angola</td>\n",
       "      <td>119.0</td>\n",
       "      <td>62.3</td>\n",
       "      <td>2.85</td>\n",
       "      <td>42.9</td>\n",
       "      <td>5900</td>\n",
       "      <td>22.40</td>\n",
       "      <td>60.1</td>\n",
       "      <td>6.16</td>\n",
       "      <td>3530</td>\n",
       "      <td>1</td>\n",
       "    </tr>\n",
       "    <tr>\n",
       "      <th>4</th>\n",
       "      <td>Antigua and Barbuda</td>\n",
       "      <td>10.3</td>\n",
       "      <td>45.5</td>\n",
       "      <td>6.03</td>\n",
       "      <td>58.9</td>\n",
       "      <td>19100</td>\n",
       "      <td>1.44</td>\n",
       "      <td>76.8</td>\n",
       "      <td>2.13</td>\n",
       "      <td>12200</td>\n",
       "      <td>2</td>\n",
       "    </tr>\n",
       "  </tbody>\n",
       "</table>\n",
       "</div>"
      ],
      "text/plain": [
       "               country  child_mort  exports  health  imports  income  \\\n",
       "0          Afghanistan        90.2     10.0    7.58     44.9    1610   \n",
       "1              Albania        16.6     28.0    6.55     48.6    9930   \n",
       "2              Algeria        27.3     38.4    4.17     31.4   12900   \n",
       "3               Angola       119.0     62.3    2.85     42.9    5900   \n",
       "4  Antigua and Barbuda        10.3     45.5    6.03     58.9   19100   \n",
       "\n",
       "   inflation  life_expec  total_fer   gdpp  KMeans_Clusters  \n",
       "0       9.44        56.2       5.82    553                1  \n",
       "1       4.49        76.3       1.65   4090                2  \n",
       "2      16.10        76.5       2.89   4460                2  \n",
       "3      22.40        60.1       6.16   3530                1  \n",
       "4       1.44        76.8       2.13  12200                2  "
      ]
     },
     "execution_count": 93,
     "metadata": {},
     "output_type": "execute_result"
    }
   ],
   "source": [
    "preds = kmeans.labels_\n",
    "kmeans_df = pd.DataFrame(df2)\n",
    "kmeans_df['KMeans_Clusters'] = preds\n",
    "kmeans_df.head(5)"
   ]
  },
  {
   "cell_type": "markdown",
   "id": "7226683a",
   "metadata": {},
   "source": [
    "### let's try using 2 clusters"
   ]
  },
  {
   "cell_type": "code",
   "execution_count": 85,
   "id": "35191d1b",
   "metadata": {},
   "outputs": [
    {
     "name": "stderr",
     "output_type": "stream",
     "text": [
      "C:\\Users\\HP\\anaconda3\\lib\\site-packages\\sklearn\\cluster\\_kmeans.py:870: FutureWarning: The default value of `n_init` will change from 10 to 'auto' in 1.4. Set the value of `n_init` explicitly to suppress the warning\n",
      "  warnings.warn(\n",
      "C:\\Users\\HP\\anaconda3\\lib\\site-packages\\sklearn\\cluster\\_kmeans.py:1382: UserWarning: KMeans is known to have a memory leak on Windows with MKL, when there are less chunks than available threads. You can avoid it by setting the environment variable OMP_NUM_THREADS=1.\n",
      "  warnings.warn(\n"
     ]
    },
    {
     "data": {
      "text/html": [
       "<style>#sk-container-id-3 {color: black;background-color: white;}#sk-container-id-3 pre{padding: 0;}#sk-container-id-3 div.sk-toggleable {background-color: white;}#sk-container-id-3 label.sk-toggleable__label {cursor: pointer;display: block;width: 100%;margin-bottom: 0;padding: 0.3em;box-sizing: border-box;text-align: center;}#sk-container-id-3 label.sk-toggleable__label-arrow:before {content: \"▸\";float: left;margin-right: 0.25em;color: #696969;}#sk-container-id-3 label.sk-toggleable__label-arrow:hover:before {color: black;}#sk-container-id-3 div.sk-estimator:hover label.sk-toggleable__label-arrow:before {color: black;}#sk-container-id-3 div.sk-toggleable__content {max-height: 0;max-width: 0;overflow: hidden;text-align: left;background-color: #f0f8ff;}#sk-container-id-3 div.sk-toggleable__content pre {margin: 0.2em;color: black;border-radius: 0.25em;background-color: #f0f8ff;}#sk-container-id-3 input.sk-toggleable__control:checked~div.sk-toggleable__content {max-height: 200px;max-width: 100%;overflow: auto;}#sk-container-id-3 input.sk-toggleable__control:checked~label.sk-toggleable__label-arrow:before {content: \"▾\";}#sk-container-id-3 div.sk-estimator input.sk-toggleable__control:checked~label.sk-toggleable__label {background-color: #d4ebff;}#sk-container-id-3 div.sk-label input.sk-toggleable__control:checked~label.sk-toggleable__label {background-color: #d4ebff;}#sk-container-id-3 input.sk-hidden--visually {border: 0;clip: rect(1px 1px 1px 1px);clip: rect(1px, 1px, 1px, 1px);height: 1px;margin: -1px;overflow: hidden;padding: 0;position: absolute;width: 1px;}#sk-container-id-3 div.sk-estimator {font-family: monospace;background-color: #f0f8ff;border: 1px dotted black;border-radius: 0.25em;box-sizing: border-box;margin-bottom: 0.5em;}#sk-container-id-3 div.sk-estimator:hover {background-color: #d4ebff;}#sk-container-id-3 div.sk-parallel-item::after {content: \"\";width: 100%;border-bottom: 1px solid gray;flex-grow: 1;}#sk-container-id-3 div.sk-label:hover label.sk-toggleable__label {background-color: #d4ebff;}#sk-container-id-3 div.sk-serial::before {content: \"\";position: absolute;border-left: 1px solid gray;box-sizing: border-box;top: 0;bottom: 0;left: 50%;z-index: 0;}#sk-container-id-3 div.sk-serial {display: flex;flex-direction: column;align-items: center;background-color: white;padding-right: 0.2em;padding-left: 0.2em;position: relative;}#sk-container-id-3 div.sk-item {position: relative;z-index: 1;}#sk-container-id-3 div.sk-parallel {display: flex;align-items: stretch;justify-content: center;background-color: white;position: relative;}#sk-container-id-3 div.sk-item::before, #sk-container-id-3 div.sk-parallel-item::before {content: \"\";position: absolute;border-left: 1px solid gray;box-sizing: border-box;top: 0;bottom: 0;left: 50%;z-index: -1;}#sk-container-id-3 div.sk-parallel-item {display: flex;flex-direction: column;z-index: 1;position: relative;background-color: white;}#sk-container-id-3 div.sk-parallel-item:first-child::after {align-self: flex-end;width: 50%;}#sk-container-id-3 div.sk-parallel-item:last-child::after {align-self: flex-start;width: 50%;}#sk-container-id-3 div.sk-parallel-item:only-child::after {width: 0;}#sk-container-id-3 div.sk-dashed-wrapped {border: 1px dashed gray;margin: 0 0.4em 0.5em 0.4em;box-sizing: border-box;padding-bottom: 0.4em;background-color: white;}#sk-container-id-3 div.sk-label label {font-family: monospace;font-weight: bold;display: inline-block;line-height: 1.2em;}#sk-container-id-3 div.sk-label-container {text-align: center;}#sk-container-id-3 div.sk-container {/* jupyter's `normalize.less` sets `[hidden] { display: none; }` but bootstrap.min.css set `[hidden] { display: none !important; }` so we also need the `!important` here to be able to override the default hidden behavior on the sphinx rendered scikit-learn.org. See: https://github.com/scikit-learn/scikit-learn/issues/21755 */display: inline-block !important;position: relative;}#sk-container-id-3 div.sk-text-repr-fallback {display: none;}</style><div id=\"sk-container-id-3\" class=\"sk-top-container\"><div class=\"sk-text-repr-fallback\"><pre>KMeans(n_clusters=2, random_state=42)</pre><b>In a Jupyter environment, please rerun this cell to show the HTML representation or trust the notebook. <br />On GitHub, the HTML representation is unable to render, please try loading this page with nbviewer.org.</b></div><div class=\"sk-container\" hidden><div class=\"sk-item\"><div class=\"sk-estimator sk-toggleable\"><input class=\"sk-toggleable__control sk-hidden--visually\" id=\"sk-estimator-id-3\" type=\"checkbox\" checked><label for=\"sk-estimator-id-3\" class=\"sk-toggleable__label sk-toggleable__label-arrow\">KMeans</label><div class=\"sk-toggleable__content\"><pre>KMeans(n_clusters=2, random_state=42)</pre></div></div></div></div></div>"
      ],
      "text/plain": [
       "KMeans(n_clusters=2, random_state=42)"
      ]
     },
     "execution_count": 85,
     "metadata": {},
     "output_type": "execute_result"
    }
   ],
   "source": [
    "kmeans = KMeans(n_clusters = 2,random_state = 42)\n",
    "kmeans.fit(reduced_data)"
   ]
  },
  {
   "cell_type": "code",
   "execution_count": 86,
   "id": "9cd5bcde",
   "metadata": {},
   "outputs": [
    {
     "data": {
      "text/plain": [
       "0    130\n",
       "1     37\n",
       "dtype: int64"
      ]
     },
     "execution_count": 86,
     "metadata": {},
     "output_type": "execute_result"
    }
   ],
   "source": [
    "pd.Series(kmeans.labels_).value_counts()"
   ]
  },
  {
   "cell_type": "code",
   "execution_count": 87,
   "id": "673bfdf9",
   "metadata": {},
   "outputs": [
    {
     "data": {
      "text/plain": [
       "0.41971857277261077"
      ]
     },
     "execution_count": 87,
     "metadata": {},
     "output_type": "execute_result"
    }
   ],
   "source": [
    "from sklearn import metrics\n",
    "metrics.silhouette_score(reduced_data, kmeans.labels_)\n"
   ]
  },
  {
   "cell_type": "code",
   "execution_count": 88,
   "id": "57a7a125",
   "metadata": {},
   "outputs": [
    {
     "name": "stderr",
     "output_type": "stream",
     "text": [
      "C:\\Users\\HP\\anaconda3\\lib\\site-packages\\sklearn\\cluster\\_kmeans.py:870: FutureWarning: The default value of `n_init` will change from 10 to 'auto' in 1.4. Set the value of `n_init` explicitly to suppress the warning\n",
      "  warnings.warn(\n",
      "C:\\Users\\HP\\anaconda3\\lib\\site-packages\\sklearn\\cluster\\_kmeans.py:1382: UserWarning: KMeans is known to have a memory leak on Windows with MKL, when there are less chunks than available threads. You can avoid it by setting the environment variable OMP_NUM_THREADS=1.\n",
      "  warnings.warn(\n"
     ]
    },
    {
     "data": {
      "text/html": [
       "<div>\n",
       "<style scoped>\n",
       "    .dataframe tbody tr th:only-of-type {\n",
       "        vertical-align: middle;\n",
       "    }\n",
       "\n",
       "    .dataframe tbody tr th {\n",
       "        vertical-align: top;\n",
       "    }\n",
       "\n",
       "    .dataframe thead th {\n",
       "        text-align: right;\n",
       "    }\n",
       "</style>\n",
       "<table border=\"1\" class=\"dataframe\">\n",
       "  <thead>\n",
       "    <tr style=\"text-align: right;\">\n",
       "      <th></th>\n",
       "      <th>country</th>\n",
       "      <th>child_mort</th>\n",
       "      <th>exports</th>\n",
       "      <th>health</th>\n",
       "      <th>imports</th>\n",
       "      <th>income</th>\n",
       "      <th>inflation</th>\n",
       "      <th>life_expec</th>\n",
       "      <th>total_fer</th>\n",
       "      <th>gdpp</th>\n",
       "      <th>KMeans_Clusters</th>\n",
       "    </tr>\n",
       "  </thead>\n",
       "  <tbody>\n",
       "    <tr>\n",
       "      <th>0</th>\n",
       "      <td>Afghanistan</td>\n",
       "      <td>90.2</td>\n",
       "      <td>10.0</td>\n",
       "      <td>7.58</td>\n",
       "      <td>44.9</td>\n",
       "      <td>1610</td>\n",
       "      <td>9.44</td>\n",
       "      <td>56.2</td>\n",
       "      <td>5.82</td>\n",
       "      <td>553</td>\n",
       "      <td>0</td>\n",
       "    </tr>\n",
       "    <tr>\n",
       "      <th>1</th>\n",
       "      <td>Albania</td>\n",
       "      <td>16.6</td>\n",
       "      <td>28.0</td>\n",
       "      <td>6.55</td>\n",
       "      <td>48.6</td>\n",
       "      <td>9930</td>\n",
       "      <td>4.49</td>\n",
       "      <td>76.3</td>\n",
       "      <td>1.65</td>\n",
       "      <td>4090</td>\n",
       "      <td>0</td>\n",
       "    </tr>\n",
       "    <tr>\n",
       "      <th>2</th>\n",
       "      <td>Algeria</td>\n",
       "      <td>27.3</td>\n",
       "      <td>38.4</td>\n",
       "      <td>4.17</td>\n",
       "      <td>31.4</td>\n",
       "      <td>12900</td>\n",
       "      <td>16.10</td>\n",
       "      <td>76.5</td>\n",
       "      <td>2.89</td>\n",
       "      <td>4460</td>\n",
       "      <td>0</td>\n",
       "    </tr>\n",
       "    <tr>\n",
       "      <th>3</th>\n",
       "      <td>Angola</td>\n",
       "      <td>119.0</td>\n",
       "      <td>62.3</td>\n",
       "      <td>2.85</td>\n",
       "      <td>42.9</td>\n",
       "      <td>5900</td>\n",
       "      <td>22.40</td>\n",
       "      <td>60.1</td>\n",
       "      <td>6.16</td>\n",
       "      <td>3530</td>\n",
       "      <td>0</td>\n",
       "    </tr>\n",
       "    <tr>\n",
       "      <th>4</th>\n",
       "      <td>Antigua and Barbuda</td>\n",
       "      <td>10.3</td>\n",
       "      <td>45.5</td>\n",
       "      <td>6.03</td>\n",
       "      <td>58.9</td>\n",
       "      <td>19100</td>\n",
       "      <td>1.44</td>\n",
       "      <td>76.8</td>\n",
       "      <td>2.13</td>\n",
       "      <td>12200</td>\n",
       "      <td>0</td>\n",
       "    </tr>\n",
       "  </tbody>\n",
       "</table>\n",
       "</div>"
      ],
      "text/plain": [
       "               country  child_mort  exports  health  imports  income  \\\n",
       "0          Afghanistan        90.2     10.0    7.58     44.9    1610   \n",
       "1              Albania        16.6     28.0    6.55     48.6    9930   \n",
       "2              Algeria        27.3     38.4    4.17     31.4   12900   \n",
       "3               Angola       119.0     62.3    2.85     42.9    5900   \n",
       "4  Antigua and Barbuda        10.3     45.5    6.03     58.9   19100   \n",
       "\n",
       "   inflation  life_expec  total_fer   gdpp  KMeans_Clusters  \n",
       "0       9.44        56.2       5.82    553                0  \n",
       "1       4.49        76.3       1.65   4090                0  \n",
       "2      16.10        76.5       2.89   4460                0  \n",
       "3      22.40        60.1       6.16   3530                0  \n",
       "4       1.44        76.8       2.13  12200                0  "
      ]
     },
     "execution_count": 88,
     "metadata": {},
     "output_type": "execute_result"
    }
   ],
   "source": [
    "cluster_labels = kmeans.fit_predict(reduced_data)\n",
    "preds = kmeans.labels_\n",
    "kmeans_df = pd.DataFrame(df2)\n",
    "kmeans_df['KMeans_Clusters'] = preds\n",
    "kmeans_df.head(5)"
   ]
  },
  {
   "cell_type": "markdown",
   "id": "db3abd33",
   "metadata": {},
   "source": [
    "## let's use Hierarchical model"
   ]
  },
  {
   "cell_type": "code",
   "execution_count": 104,
   "id": "22bf3cba",
   "metadata": {},
   "outputs": [],
   "source": [
    "import scipy.cluster.hierarchy as hcluster\n",
    "from sklearn.cluster import AgglomerativeClustering"
   ]
  },
  {
   "cell_type": "code",
   "execution_count": 106,
   "id": "a22dbcae",
   "metadata": {},
   "outputs": [
    {
     "data": {
      "image/png": "[encoded data removed]",
      "text/plain": [
       "<Figure size 5000x2000 with 1 Axes>"
      ]
     },
     "metadata": {},
     "output_type": "display_data"
    }
   ],
   "source": [
    "#plotting dendogram\n",
    "plt.figure(figsize=(50, 20))\n",
    "dend = hcluster.dendrogram(hcluster.linkage(reduced_data,method='ward'))\n"
   ]
  },
  {
   "cell_type": "markdown",
   "id": "e4afcd8a",
   "metadata": {},
   "source": [
    "#### from the above dendro i'll go with 3 clusters"
   ]
  },
  {
   "cell_type": "code",
   "execution_count": 98,
   "id": "cf165caf",
   "metadata": {},
   "outputs": [],
   "source": [
    "# Getting labels from Agglomearative Hierarchical clustering\n",
    "hcluster = AgglomerativeClustering(n_clusters=3, metric='euclidean', linkage='ward')  \n",
    "hcluster.fit_predict(reduced_data)\n",
    "hcluster_label = hcluster.labels_"
   ]
  },
  {
   "cell_type": "code",
   "execution_count": 100,
   "id": "14224d44",
   "metadata": {},
   "outputs": [
    {
     "data": {
      "text/html": [
       "<div>\n",
       "<style scoped>\n",
       "    .dataframe tbody tr th:only-of-type {\n",
       "        vertical-align: middle;\n",
       "    }\n",
       "\n",
       "    .dataframe tbody tr th {\n",
       "        vertical-align: top;\n",
       "    }\n",
       "\n",
       "    .dataframe thead th {\n",
       "        text-align: right;\n",
       "    }\n",
       "</style>\n",
       "<table border=\"1\" class=\"dataframe\">\n",
       "  <thead>\n",
       "    <tr style=\"text-align: right;\">\n",
       "      <th></th>\n",
       "      <th>country</th>\n",
       "      <th>child_mort</th>\n",
       "      <th>exports</th>\n",
       "      <th>health</th>\n",
       "      <th>imports</th>\n",
       "      <th>income</th>\n",
       "      <th>inflation</th>\n",
       "      <th>life_expec</th>\n",
       "      <th>total_fer</th>\n",
       "      <th>gdpp</th>\n",
       "      <th>KMeans_Clusters</th>\n",
       "      <th>hcluster</th>\n",
       "    </tr>\n",
       "  </thead>\n",
       "  <tbody>\n",
       "    <tr>\n",
       "      <th>0</th>\n",
       "      <td>Afghanistan</td>\n",
       "      <td>90.2</td>\n",
       "      <td>10.0</td>\n",
       "      <td>7.58</td>\n",
       "      <td>44.9</td>\n",
       "      <td>1610</td>\n",
       "      <td>9.44</td>\n",
       "      <td>56.2</td>\n",
       "      <td>5.82</td>\n",
       "      <td>553</td>\n",
       "      <td>1</td>\n",
       "      <td>1</td>\n",
       "    </tr>\n",
       "    <tr>\n",
       "      <th>1</th>\n",
       "      <td>Albania</td>\n",
       "      <td>16.6</td>\n",
       "      <td>28.0</td>\n",
       "      <td>6.55</td>\n",
       "      <td>48.6</td>\n",
       "      <td>9930</td>\n",
       "      <td>4.49</td>\n",
       "      <td>76.3</td>\n",
       "      <td>1.65</td>\n",
       "      <td>4090</td>\n",
       "      <td>2</td>\n",
       "      <td>2</td>\n",
       "    </tr>\n",
       "    <tr>\n",
       "      <th>2</th>\n",
       "      <td>Algeria</td>\n",
       "      <td>27.3</td>\n",
       "      <td>38.4</td>\n",
       "      <td>4.17</td>\n",
       "      <td>31.4</td>\n",
       "      <td>12900</td>\n",
       "      <td>16.10</td>\n",
       "      <td>76.5</td>\n",
       "      <td>2.89</td>\n",
       "      <td>4460</td>\n",
       "      <td>2</td>\n",
       "      <td>1</td>\n",
       "    </tr>\n",
       "    <tr>\n",
       "      <th>3</th>\n",
       "      <td>Angola</td>\n",
       "      <td>119.0</td>\n",
       "      <td>62.3</td>\n",
       "      <td>2.85</td>\n",
       "      <td>42.9</td>\n",
       "      <td>5900</td>\n",
       "      <td>22.40</td>\n",
       "      <td>60.1</td>\n",
       "      <td>6.16</td>\n",
       "      <td>3530</td>\n",
       "      <td>1</td>\n",
       "      <td>1</td>\n",
       "    </tr>\n",
       "    <tr>\n",
       "      <th>4</th>\n",
       "      <td>Antigua and Barbuda</td>\n",
       "      <td>10.3</td>\n",
       "      <td>45.5</td>\n",
       "      <td>6.03</td>\n",
       "      <td>58.9</td>\n",
       "      <td>19100</td>\n",
       "      <td>1.44</td>\n",
       "      <td>76.8</td>\n",
       "      <td>2.13</td>\n",
       "      <td>12200</td>\n",
       "      <td>2</td>\n",
       "      <td>2</td>\n",
       "    </tr>\n",
       "  </tbody>\n",
       "</table>\n",
       "</div>"
      ],
      "text/plain": [
       "               country  child_mort  exports  health  imports  income  \\\n",
       "0          Afghanistan        90.2     10.0    7.58     44.9    1610   \n",
       "1              Albania        16.6     28.0    6.55     48.6    9930   \n",
       "2              Algeria        27.3     38.4    4.17     31.4   12900   \n",
       "3               Angola       119.0     62.3    2.85     42.9    5900   \n",
       "4  Antigua and Barbuda        10.3     45.5    6.03     58.9   19100   \n",
       "\n",
       "   inflation  life_expec  total_fer   gdpp  KMeans_Clusters  hcluster  \n",
       "0       9.44        56.2       5.82    553                1         1  \n",
       "1       4.49        76.3       1.65   4090                2         2  \n",
       "2      16.10        76.5       2.89   4460                2         1  \n",
       "3      22.40        60.1       6.16   3530                1         1  \n",
       "4       1.44        76.8       2.13  12200                2         2  "
      ]
     },
     "execution_count": 100,
     "metadata": {},
     "output_type": "execute_result"
    }
   ],
   "source": [
    "hcluster_df = pd.DataFrame(df2)\n",
    "#adding hcluster labels in hcluster_df\n",
    "hcluster_df['hcluster'] = hcluster_label\n",
    "#first few rows of hcluster_df\n",
    "hcluster_df.head()"
   ]
  },
  {
   "cell_type": "code",
   "execution_count": 101,
   "id": "1d217e32",
   "metadata": {},
   "outputs": [
    {
     "data": {
      "text/plain": [
       "0.23918480296921388"
      ]
     },
     "execution_count": 101,
     "metadata": {},
     "output_type": "execute_result"
    }
   ],
   "source": [
    "from sklearn import metrics\n",
    "metrics.silhouette_score(reduced_data, hcluster.labels_)\n"
   ]
  },
  {
   "cell_type": "code",
   "execution_count": null,
   "id": "3ed6e7c5",
   "metadata": {},
   "outputs": [],
   "source": []
  },
  {
   "cell_type": "code",
   "execution_count": null,
   "id": "530cd98d",
   "metadata": {},
   "outputs": [],
   "source": []
  },
  {
   "cell_type": "code",
   "execution_count": null,
   "id": "a0f53a95",
   "metadata": {},
   "outputs": [],
   "source": []
  },
  {
   "cell_type": "code",
   "execution_count": null,
   "id": "8f958f63",
   "metadata": {},
   "outputs": [],
   "source": []
  }
 ],
 "metadata": {
  "kernelspec": {
   "display_name": "Python 3 (ipykernel)",
   "language": "python",
   "name": "python3"
  },
  "language_info": {
   "codemirror_mode": {
    "name": "ipython",
    "version": 3
   },
   "file_extension": ".py",
   "mimetype": "text/x-python",
   "name": "python",
   "nbconvert_exporter": "python",
   "pygments_lexer": "ipython3",
   "version": "3.10.9"
  }
 },
 "nbformat": 4,
 "nbformat_minor": 5
}
